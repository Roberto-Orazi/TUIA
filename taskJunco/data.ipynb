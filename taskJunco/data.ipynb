{
 "cells": [
  {
   "cell_type": "markdown",
   "metadata": {},
   "source": [
    "## Imports"
   ]
  },
  {
   "cell_type": "code",
   "execution_count": 2,
   "metadata": {},
   "outputs": [],
   "source": [
    "import pandas as pd\n",
    "from string import ascii_uppercase as alfabeto\n",
    "import pickle\n",
    "from bs4 import BeautifulSoup\n",
    "import requests"
   ]
  },
  {
   "cell_type": "markdown",
   "metadata": {},
   "source": [
    "## Data extraction"
   ]
  },
  {
   "cell_type": "markdown",
   "metadata": {},
   "source": [
    "### Node Definition"
   ]
  },
  {
   "cell_type": "code",
   "execution_count": 11,
   "metadata": {},
   "outputs": [],
   "source": [
    "csv_file=('formula1_2020season_raceResults.csv')\n",
    "def extract_data(csv):\n",
    "    loaded_data=pd.read_csv(csv)\n",
    "    return loaded_data\n",
    "data=extract_data(csv_file)"
   ]
  },
  {
   "cell_type": "code",
   "execution_count": null,
   "metadata": {},
   "outputs": [],
   "source": [
    "circuits = [\n",
    "    \"Austria\",\n",
    "    \"Styria\",\n",
    "    \"Hungary\",\n",
    "    \"Great Britain\",\n",
    "    \"70th Anniversary\",\n",
    "    \"Spain\",\n",
    "    \"Belgium\",\n",
    "    \"Italy\",\n",
    "    \"Tuscany\",\n",
    "    \"Russia\",\n",
    "    \"Eifel\",\n",
    "    \"Portugal\",\n",
    "    \"Emilia Romagna\",\n",
    "    \"Turkey\"\n",
    "]\n",
    "def transform_data(input_data, circuits):\n",
    "    '''\n",
    "        This function brings us the data and divide the data by race\n",
    "    '''\n",
    "    \n",
    "    return transformed_data\n",
    "transform_data(data)"
   ]
  }
 ],
 "metadata": {
  "kernelspec": {
   "display_name": "Python 3",
   "language": "python",
   "name": "python3"
  },
  "language_info": {
   "codemirror_mode": {
    "name": "ipython",
    "version": 3
   },
   "file_extension": ".py",
   "mimetype": "text/x-python",
   "name": "python",
   "nbconvert_exporter": "python",
   "pygments_lexer": "ipython3",
   "version": "3.10.12"
  }
 },
 "nbformat": 4,
 "nbformat_minor": 2
}
