{
 "cells": [
  {
   "cell_type": "markdown",
   "metadata": {},
   "source": [
    "## Imports"
   ]
  },
  {
   "cell_type": "code",
   "execution_count": null,
   "metadata": {},
   "outputs": [],
   "source": [
    "import pandas as pd\n",
    "from string import ascii_uppercase as alfabeto\n",
    "import pickle\n",
    "from bs4 import BeautifulSoup\n",
    "import requests\n",
    "pd.set_option('display.max_columns', None)"
   ]
  },
  {
   "cell_type": "markdown",
   "metadata": {},
   "source": [
    "## Custom node-flow system"
   ]
  },
  {
   "cell_type": "markdown",
   "metadata": {},
   "source": [
    "### Node Definition"
   ]
  },
  {
   "cell_type": "code",
   "execution_count": null,
   "metadata": {},
   "outputs": [],
   "source": [
    "csv_file=('formula1_2020season_raceResults.csv')\n",
    "def extract_data(csv: str):\n",
    "    loaded_data = pd.read_csv(csv)\n",
    "    return loaded_data\n",
    "\n",
    "data = extract_data(csv_file)\n",
    "race_tracks=data['Track'].unique()\n",
    "drivers=data['Driver'].unique()\n",
    "teams=data['Team'].unique()\n",
    "data"
   ]
  },
  {
   "cell_type": "code",
   "execution_count": null,
   "metadata": {},
   "outputs": [],
   "source": [
    "def transform_data(data):\n",
    "    driver_table = pd.DataFrame({\n",
    "        'Circuit': data['Track'],\n",
    "        'Starting Position': data['Starting Grid'],\n",
    "        'Finish Position': data['Position'],\n",
    "        'Points': data['Points'],\n",
    "    })\n",
    "    driver_table['After race total points'] = driver_table['Points'].cumsum()\n",
    "\n",
    "    return driver_table"
   ]
  },
  {
   "cell_type": "markdown",
   "metadata": {},
   "source": [
    "### Node Graph"
   ]
  },
  {
   "cell_type": "code",
   "execution_count": null,
   "metadata": {},
   "outputs": [],
   "source": [
    "node_graph = {\n",
    "    'start': 'extract_data',\n",
    "    'extract_data': 'transform_data',\n",
    "    'transform_data': 'end',\n",
    "    'end': None\n",
    "}"
   ]
  },
  {
   "cell_type": "markdown",
   "metadata": {},
   "source": [
    "### Node Execution"
   ]
  },
  {
   "cell_type": "code",
   "execution_count": null,
   "metadata": {},
   "outputs": [],
   "source": [
    "def execute_node(node_name, data=None):\n",
    "    if node_name == 'extract_data':\n",
    "        return extract_data(csv_file)\n",
    "    elif node_name == 'transform_data':\n",
    "        if data is not None and 'Driver' in data.columns:\n",
    "            # Apply transform_data to each driver's data\n",
    "            table_per_driver = {}\n",
    "            for driver in data['Driver'].unique():\n",
    "                driver_data = data[data['Driver'] == driver]\n",
    "                driver_table = transform_data(driver_data)\n",
    "                table_per_driver[driver] = driver_table\n",
    "            return table_per_driver\n",
    "        else:\n",
    "            return transform_data(data)\n",
    "    else:\n",
    "        raise ValueError(f\"Node '{node_name}' not found in the graph.\")\n",
    "\n",
    "\n",
    "\n"
   ]
  },
  {
   "cell_type": "markdown",
   "metadata": {},
   "source": [
    "## Data processing steps"
   ]
  },
  {
   "cell_type": "markdown",
   "metadata": {},
   "source": [
    "### Data Extraction"
   ]
  },
  {
   "cell_type": "code",
   "execution_count": null,
   "metadata": {},
   "outputs": [],
   "source": [
    "data = execute_node('extract_data', csv_file)"
   ]
  },
  {
   "cell_type": "markdown",
   "metadata": {},
   "source": [
    "### Data transformation"
   ]
  },
  {
   "cell_type": "code",
   "execution_count": null,
   "metadata": {},
   "outputs": [],
   "source": [
    "result = execute_node('transform_data', data)\n",
    "\n",
    "print(\"Transformed data:\")\n",
    "for driver, table in result.items():\n",
    "    print(f\"Results for {driver}:\\n\")\n",
    "    print(table.to_string(index=False))\n",
    "    print('\\n' + '=' * 50 + '\\n')"
   ]
  }
 ],
 "metadata": {
  "kernelspec": {
   "display_name": "Python 3",
   "language": "python",
   "name": "python3"
  },
  "language_info": {
   "codemirror_mode": {
    "name": "ipython",
    "version": 3
   },
   "file_extension": ".py",
   "mimetype": "text/x-python",
   "name": "python",
   "nbconvert_exporter": "python",
   "pygments_lexer": "ipython3",
   "version": "3.10.12"
  }
 },
 "nbformat": 4,
 "nbformat_minor": 2
}
