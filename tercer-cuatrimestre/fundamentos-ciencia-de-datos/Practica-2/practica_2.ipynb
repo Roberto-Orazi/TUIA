{
 "cells": [
  {
   "cell_type": "markdown",
   "metadata": {},
   "source": [
    "# Practica 2"
   ]
  },
  {
   "cell_type": "markdown",
   "metadata": {},
   "source": [
    "### Imports"
   ]
  },
  {
   "cell_type": "code",
   "execution_count": 6,
   "metadata": {},
   "outputs": [],
   "source": [
    "import pandas as pd\n",
    "import numpy as np\n",
    "import re\n"
   ]
  },
  {
   "cell_type": "markdown",
   "metadata": {},
   "source": [
    "## Ejercicio 1"
   ]
  },
  {
   "cell_type": "markdown",
   "metadata": {},
   "source": [
    "### Data reading"
   ]
  },
  {
   "cell_type": "code",
   "execution_count": 5,
   "metadata": {},
   "outputs": [
    {
     "name": "stdout",
     "output_type": "stream",
     "text": [
      "Index(['organismo', 'expediente', 'financiamiento', 'acto_conclusión',\n",
      "       'descripción', 'prestador', 'CUIT', 'estado', 'factura_nro',\n",
      "       'factura_moneda_monto', 'guía_nro', 'guía_moneda_monto', 'fecha_guía',\n",
      "       'vuelo ', 'bienes_transportados', 'proveedor_bienes_transportados',\n",
      "       'operación', 'comprador_donante', 'origen'],\n",
      "      dtype='object')\n"
     ]
    }
   ],
   "source": [
    "archivo_fletes='flete-aereo-vacunas-covid19-al-2021-06-28.xlsx'\n",
    "dataFlete=pd.read_excel(archivo_fletes, skiprows=4).dropna()\n",
    "print(dataFlete.columns)"
   ]
  },
  {
   "cell_type": "markdown",
   "metadata": {},
   "source": [
    "### Porcentaje de cada vuelo"
   ]
  },
  {
   "cell_type": "code",
   "execution_count": 7,
   "metadata": {},
   "outputs": [
    {
     "name": "stdout",
     "output_type": "stream",
     "text": [
      "59\n",
      "11.864406779661017 %\n",
      "22.033898305084744 %\n",
      "18.64406779661017 %\n",
      "15.254237288135593 %\n",
      "6.779661016949152 %\n",
      "5.084745762711865 %\n",
      "10.16949152542373 %\n",
      "3.389830508474576 %\n",
      "1.694915254237288 %\n",
      "1.694915254237288 %\n",
      "1.694915254237288 %\n",
      "1.694915254237288 %\n",
      "100.0 %\n"
     ]
    }
   ],
   "source": [
    "df_agrupado = dataFlete.groupby('vuelo ')\n",
    "total_vuelos=df_agrupado.size()\n",
    "numero_total_vuelos=total_vuelos.sum()\n",
    "print(numero_total_vuelos)\n",
    "sum=0\n",
    "for vuelo in total_vuelos:\n",
    "    porcentaje=(vuelo/numero_total_vuelos)*100\n",
    "    print(f'{porcentaje} %')\n",
    "    sum+=porcentaje\n",
    "\n",
    "print(f'{sum} %')\n",
    "\n"
   ]
  },
  {
   "cell_type": "markdown",
   "metadata": {},
   "source": [
    "### Promedio de lo facturado"
   ]
  },
  {
   "cell_type": "markdown",
   "metadata": {},
   "source": [
    "#### Cleaning Data"
   ]
  },
  {
   "cell_type": "code",
   "execution_count": 8,
   "metadata": {},
   "outputs": [],
   "source": [
    "total_facturado_usd=dataFlete['factura_moneda_monto'].str.startswith('USD')\n",
    "total_facturado_eur=dataFlete['factura_moneda_monto'].str.startswith('EUR')\n",
    "valores_usd = dataFlete[total_facturado_usd]['factura_moneda_monto'].str[4:]\n",
    "valores_eur=dataFlete[total_facturado_eur]['factura_moneda_monto'].str[4:]\n",
    "\n",
    "valores_limpios_usd=valores_usd.str.replace(',','.').str.replace('.','').str.replace(' ','').astype(float)\n",
    "valores_limpios_eur=valores_eur.str.replace(',','.').str.replace('.','').str.replace(' ','').astype(float)\n"
   ]
  },
  {
   "cell_type": "markdown",
   "metadata": {},
   "source": [
    "#### Calculo de Promedio"
   ]
  },
  {
   "cell_type": "code",
   "execution_count": 12,
   "metadata": {},
   "outputs": [],
   "source": [
    "valores_limpios_eur=valores_limpios_eur.sum()\n",
    "valores_limpios_usd=valores_limpios_usd.sum()\n"
   ]
  }
 ],
 "metadata": {
  "kernelspec": {
   "display_name": "Python 3",
   "language": "python",
   "name": "python3"
  },
  "language_info": {
   "codemirror_mode": {
    "name": "ipython",
    "version": 3
   },
   "file_extension": ".py",
   "mimetype": "text/x-python",
   "name": "python",
   "nbconvert_exporter": "python",
   "pygments_lexer": "ipython3",
   "version": "3.10.12"
  }
 },
 "nbformat": 4,
 "nbformat_minor": 2
}
