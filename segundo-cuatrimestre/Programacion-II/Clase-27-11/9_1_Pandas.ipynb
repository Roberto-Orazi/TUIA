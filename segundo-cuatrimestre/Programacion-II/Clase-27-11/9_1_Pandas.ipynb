{
  "cells": [
    {
      "cell_type": "markdown",
      "metadata": {
        "id": "D4kt_OpYzVIW"
      },
      "source": [
        "### Análisis de Datos con Pandas\n",
        "En programación 1, aprendimos a abrir archivos csv usando el paquete `csv`.\n",
        "\n",
        "Hagamos un repaso 😀"
      ]
    },
    {
      "cell_type": "markdown",
      "metadata": {
        "id": "bp9NYQp12Fgf"
      },
      "source": [
        "### Paquete CSV"
      ]
    },
    {
      "cell_type": "markdown",
      "metadata": {
        "id": "luKD-j4j1GSs"
      },
      "source": [
        "Comencemos leyendo el archivo con csv. Como podrán recordar, extraer información puede ser un poco tedioso ya que para poder obtener todos los valores en una columna, tenemos que recorrer todas las filas del archivo csv.\n",
        "\n",
        "En este caso vamos a recolectar los precios y los precios clasificados por barrios"
      ]
    },
    {
      "cell_type": "code",
      "execution_count": 19,
      "metadata": {
        "id": "ATdicwHBzdN3"
      },
      "outputs": [],
      "source": [
        "import csv\n",
        "lista_precios = []\n",
        "precio_por_barrio = {}\n",
        "\n",
        "with open('listings.csv') as File:\n",
        "    next(File)\n",
        "    reader = csv.reader(File, delimiter=',')\n",
        "    for fila in reader:\n",
        "        precio = float(fila[9].replace('$', '').replace(',',''))\n",
        "        lista_precios.append(precio)\n",
        "        #por barrio\n",
        "        barrio = fila[5] # neighbourhood\n",
        "        if barrio in precio_por_barrio:\n",
        "            precio_por_barrio[barrio].append(precio)\n",
        "        else:\n",
        "            precio_por_barrio[barrio] = [precio]"
      ]
    },
    {
      "cell_type": "markdown",
      "metadata": {
        "id": "sxh0Mcvu0SC2"
      },
      "source": [
        "**En** el código de arriba generamos una lista con todos los precios que aparecen en el archivo listing.csv y un diccionario donde las claves son los barrios y los valores son todos los precios de ese barrio. A continuación hacemos una breve exploración de esos datos"
      ]
    },
    {
      "cell_type": "code",
      "execution_count": 20,
      "metadata": {
        "colab": {
          "base_uri": "https://localhost:8080/",
          "height": 519
        },
        "id": "4362XYn00sWJ",
        "outputId": "839f3df4-7fc1-4283-be6b-427ae3afd3fe"
      },
      "outputs": [
        {
          "ename": "ModuleNotFoundError",
          "evalue": "No module named 'matplotlib'",
          "output_type": "error",
          "traceback": [
            "\u001b[0;31m---------------------------------------------------------------------------\u001b[0m",
            "\u001b[0;31mModuleNotFoundError\u001b[0m                       Traceback (most recent call last)",
            "\u001b[1;32m/home/roberto/workspace/facultad/tuia/Programacion-II/Clase-27-11/9_1_Pandas.ipynb Cell 6\u001b[0m line \u001b[0;36m1\n\u001b[0;32m----> <a href='vscode-notebook-cell://wsl%2Bubuntu/home/roberto/workspace/facultad/tuia/Programacion-II/Clase-27-11/9_1_Pandas.ipynb#W5sdnNjb2RlLXJlbW90ZQ%3D%3D?line=0'>1</a>\u001b[0m \u001b[39mimport\u001b[39;00m \u001b[39mmatplotlib\u001b[39;00m\u001b[39m.\u001b[39;00m\u001b[39mpyplot\u001b[39;00m \u001b[39mas\u001b[39;00m \u001b[39mplt\u001b[39;00m\n\u001b[1;32m      <a href='vscode-notebook-cell://wsl%2Bubuntu/home/roberto/workspace/facultad/tuia/Programacion-II/Clase-27-11/9_1_Pandas.ipynb#W5sdnNjb2RlLXJlbW90ZQ%3D%3D?line=1'>2</a>\u001b[0m plt\u001b[39m.\u001b[39mhist(lista_precios)\n",
            "\u001b[0;31mModuleNotFoundError\u001b[0m: No module named 'matplotlib'"
          ]
        }
      ],
      "source": [
        "import matplotlib.pyplot as plt\n",
        "plt.hist(lista_precios)"
      ]
    },
    {
      "cell_type": "code",
      "execution_count": null,
      "metadata": {
        "colab": {
          "base_uri": "https://localhost:8080/"
        },
        "id": "bkF4Ia1F5G4_",
        "outputId": "9c42ac17-c285-4c61-d9c8-f23ce8513fb6"
      },
      "outputs": [],
      "source": [
        "sum(lista_precios)/len(lista_precios)"
      ]
    },
    {
      "cell_type": "code",
      "execution_count": null,
      "metadata": {
        "colab": {
          "base_uri": "https://localhost:8080/"
        },
        "id": "k9Pw_-3S078b",
        "outputId": "e0a6ff9d-0cbf-450e-f285-b6efd63cdd46"
      },
      "outputs": [],
      "source": [
        "precio_por_barrio.keys()"
      ]
    },
    {
      "cell_type": "code",
      "execution_count": null,
      "metadata": {
        "colab": {
          "base_uri": "https://localhost:8080/"
        },
        "id": "aIwXcFO90p-Y",
        "outputId": "9c4b6b41-d3c8-45ee-9010-4c8d645d46b9"
      },
      "outputs": [],
      "source": [
        "# Calculamos el precio promedio en el barrio Bijlmer-Centrum\n",
        "sum(precio_por_barrio['Bijlmer-Centrum'])/len(precio_por_barrio['Bijlmer-Centrum'])"
      ]
    },
    {
      "cell_type": "markdown",
      "metadata": {
        "id": "TROKg3sR2OPH"
      },
      "source": [
        "### Paquete Pandas 💗🐼💗🐼💗🐼💗🐼💗\n",
        "\n",
        "El paquete pandas es muy utilizado en el análisis de datos para leer y manipular archivos de diferentes tipos, en particular el csv.\n",
        "\n",
        "* Uno de los beneficios más importantes de usar pandas es que nos permite acceder a los datos como si estos fueran una tabla, es decir, puedo acceder a las filas o columnas sin importar cuál es el archivo base.\n",
        "\n",
        "* Además, nos permite tener los datos asociados a su índice, algo que por ahora no tiene mucho sentido pero lo tendrá más adelante\n",
        "\n",
        "* Y los datos se ven muy lindos 💣"
      ]
    },
    {
      "cell_type": "markdown",
      "metadata": {
        "id": "EYebXchk6Co_"
      },
      "source": [
        "Según sus creadores pandas es:\n",
        "\n",
        "> pandas is an open source, BSD-licensed library providing high-performance, easy-to-use data structures and data analysis tools for the Python programming language.\n",
        "\n",
        "La documentación de pandas la encuentran acá https://pandas.pydata.org/docs/"
      ]
    },
    {
      "cell_type": "code",
      "execution_count": 1,
      "metadata": {
        "id": "FoP85wFv1IwQ"
      },
      "outputs": [],
      "source": [
        "import pandas as pd #casi todo el mundo importa pandas así"
      ]
    },
    {
      "cell_type": "code",
      "execution_count": 2,
      "metadata": {
        "id": "WvSGcFRv4cPB"
      },
      "outputs": [],
      "source": [
        "data = pd.read_csv('listings.csv')"
      ]
    },
    {
      "cell_type": "markdown",
      "metadata": {
        "id": "yTPVLrcN1JzP"
      },
      "source": [
        "Podemos ver los primeros $n$ registros del archivo utilizando el método `head`"
      ]
    },
    {
      "cell_type": "code",
      "execution_count": 3,
      "metadata": {
        "colab": {
          "base_uri": "https://localhost:8080/",
          "height": 271
        },
        "id": "GkoCr9F44fHj",
        "outputId": "605a3953-6fff-4ee0-ba67-3936d4963244"
      },
      "outputs": [
        {
          "data": {
            "text/html": [
              "<div>\n",
              "<style scoped>\n",
              "    .dataframe tbody tr th:only-of-type {\n",
              "        vertical-align: middle;\n",
              "    }\n",
              "\n",
              "    .dataframe tbody tr th {\n",
              "        vertical-align: top;\n",
              "    }\n",
              "\n",
              "    .dataframe thead th {\n",
              "        text-align: right;\n",
              "    }\n",
              "</style>\n",
              "<table border=\"1\" class=\"dataframe\">\n",
              "  <thead>\n",
              "    <tr style=\"text-align: right;\">\n",
              "      <th></th>\n",
              "      <th>id</th>\n",
              "      <th>name</th>\n",
              "      <th>host_id</th>\n",
              "      <th>host_name</th>\n",
              "      <th>neighbourhood_group</th>\n",
              "      <th>neighbourhood</th>\n",
              "      <th>latitude</th>\n",
              "      <th>longitude</th>\n",
              "      <th>room_type</th>\n",
              "      <th>price</th>\n",
              "      <th>minimum_nights</th>\n",
              "      <th>number_of_reviews</th>\n",
              "      <th>last_review</th>\n",
              "      <th>reviews_per_month</th>\n",
              "      <th>calculated_host_listings_count</th>\n",
              "      <th>availability_365</th>\n",
              "      <th>number_of_reviews_ltm</th>\n",
              "      <th>license</th>\n",
              "    </tr>\n",
              "  </thead>\n",
              "  <tbody>\n",
              "    <tr>\n",
              "      <th>0</th>\n",
              "      <td>23726706</td>\n",
              "      <td>Private room 20 minutes from Amsterdam + Break...</td>\n",
              "      <td>122619127</td>\n",
              "      <td>Patricia</td>\n",
              "      <td>NaN</td>\n",
              "      <td>IJburg - Zeeburgereiland</td>\n",
              "      <td>52.34916</td>\n",
              "      <td>4.97879</td>\n",
              "      <td>Private room</td>\n",
              "      <td>88</td>\n",
              "      <td>2</td>\n",
              "      <td>78</td>\n",
              "      <td>2022-05-29</td>\n",
              "      <td>1.53</td>\n",
              "      <td>1</td>\n",
              "      <td>66</td>\n",
              "      <td>11</td>\n",
              "      <td>038469D9AA6BDF1142CE</td>\n",
              "    </tr>\n",
              "    <tr>\n",
              "      <th>1</th>\n",
              "      <td>35815036</td>\n",
              "      <td>Vrijstaand vakantiehuis, privé tuin aan het water</td>\n",
              "      <td>269425139</td>\n",
              "      <td>Lydia</td>\n",
              "      <td>NaN</td>\n",
              "      <td>Noord-Oost</td>\n",
              "      <td>52.42419</td>\n",
              "      <td>4.95689</td>\n",
              "      <td>Entire home/apt</td>\n",
              "      <td>105</td>\n",
              "      <td>3</td>\n",
              "      <td>95</td>\n",
              "      <td>2022-06-02</td>\n",
              "      <td>2.65</td>\n",
              "      <td>1</td>\n",
              "      <td>243</td>\n",
              "      <td>36</td>\n",
              "      <td>NaN</td>\n",
              "    </tr>\n",
              "  </tbody>\n",
              "</table>\n",
              "</div>"
            ],
            "text/plain": [
              "         id                                               name    host_id  \\\n",
              "0  23726706  Private room 20 minutes from Amsterdam + Break...  122619127   \n",
              "1  35815036  Vrijstaand vakantiehuis, privé tuin aan het water  269425139   \n",
              "\n",
              "  host_name  neighbourhood_group             neighbourhood  latitude  \\\n",
              "0  Patricia                  NaN  IJburg - Zeeburgereiland  52.34916   \n",
              "1     Lydia                  NaN                Noord-Oost  52.42419   \n",
              "\n",
              "   longitude        room_type  price  minimum_nights  number_of_reviews  \\\n",
              "0    4.97879     Private room     88               2                 78   \n",
              "1    4.95689  Entire home/apt    105               3                 95   \n",
              "\n",
              "  last_review  reviews_per_month  calculated_host_listings_count  \\\n",
              "0  2022-05-29               1.53                               1   \n",
              "1  2022-06-02               2.65                               1   \n",
              "\n",
              "   availability_365  number_of_reviews_ltm               license  \n",
              "0                66                     11  038469D9AA6BDF1142CE  \n",
              "1               243                     36                   NaN  "
            ]
          },
          "execution_count": 3,
          "metadata": {},
          "output_type": "execute_result"
        }
      ],
      "source": [
        "data.head(2)"
      ]
    },
    {
      "cell_type": "markdown",
      "metadata": {
        "id": "D7Qku-jo488d"
      },
      "source": [
        "Vamos a ver cómo calculamos el precio promedio de los listings? y por barrio?"
      ]
    },
    {
      "cell_type": "code",
      "execution_count": 4,
      "metadata": {
        "colab": {
          "base_uri": "https://localhost:8080/"
        },
        "id": "UQUR5fyO4iqf",
        "outputId": "f021fd23-1a51-4079-bcf4-78f9b3ed6346"
      },
      "outputs": [
        {
          "data": {
            "text/plain": [
              "198.01960149036125"
            ]
          },
          "execution_count": 4,
          "metadata": {},
          "output_type": "execute_result"
        }
      ],
      "source": [
        "data['price'].mean()"
      ]
    },
    {
      "cell_type": "code",
      "execution_count": null,
      "metadata": {
        "colab": {
          "base_uri": "https://localhost:8080/"
        },
        "id": "ZhOO_9bk5EFj",
        "outputId": "6ec8a889-4877-4b2a-a0ae-0ed2c9a6492e"
      },
      "outputs": [],
      "source": [
        "data[data['neighbourhood']=='Bijlmer-Centrum']['price'].mean()"
      ]
    },
    {
      "cell_type": "markdown",
      "metadata": {
        "id": "zcXzxEsU7kn6"
      },
      "source": [
        "### Beneficios de utilizar pandas\n",
        "Algunos de los beneficios que vemos a simple vista si usamos pandas comparado con el módulo CSV:\n"
      ]
    },
    {
      "cell_type": "markdown",
      "metadata": {
        "id": "nbGpBlOq6pG6"
      },
      "source": [
        "### 🐼 Conceptos Básicos 🐼\n",
        "\n",
        "- Las estructuras de datos más usadas en pandas son los Dataframes y las Series\n",
        "- Los DataFrames pueden ser pensados como una tabla y las Series como las columnas de la tabla"
      ]
    },
    {
      "cell_type": "code",
      "execution_count": null,
      "metadata": {
        "colab": {
          "base_uri": "https://localhost:8080/"
        },
        "id": "MGEF-OZp8ZQi",
        "outputId": "b170d4de-375d-439b-e747-93148f43df70"
      },
      "outputs": [],
      "source": [
        "#Veamos como es el tipo de datos de DataFrame\n",
        "type(data)"
      ]
    },
    {
      "cell_type": "code",
      "execution_count": null,
      "metadata": {
        "colab": {
          "base_uri": "https://localhost:8080/"
        },
        "id": "Mypj2zN38GKA",
        "outputId": "c2ed8fcf-ef03-47eb-9fb1-4b53fff4f0db"
      },
      "outputs": [],
      "source": [
        "# Veamos como es el tipo de datos de Series\n",
        "type(data['price'])"
      ]
    },
    {
      "cell_type": "markdown",
      "metadata": {
        "id": "L1lZZbGY1rXV"
      },
      "source": [
        "Podemos utilizar el comando `head` tanto para DataFrame como para Series."
      ]
    },
    {
      "cell_type": "code",
      "execution_count": null,
      "metadata": {
        "colab": {
          "base_uri": "https://localhost:8080/",
          "height": 271
        },
        "id": "MhC82Kg_1nDV",
        "outputId": "851c49a6-745f-4f3c-add1-08801ed838df"
      },
      "outputs": [],
      "source": [
        "data.head(2)"
      ]
    },
    {
      "cell_type": "code",
      "execution_count": null,
      "metadata": {
        "colab": {
          "base_uri": "https://localhost:8080/"
        },
        "id": "-h9HUKG41zGV",
        "outputId": "1bf8f399-dd4d-454a-e89f-8e7a979d6166"
      },
      "outputs": [],
      "source": [
        "data['price'].head(5)"
      ]
    },
    {
      "cell_type": "markdown",
      "metadata": {
        "id": "V8apNMjJ14dL"
      },
      "source": [
        "Además tenemos los siguientes métodos básicos:\n",
        "\n",
        "* `tail` Nos muestra los _ultimos_ $n$ registros del DataFrame o de la Serie."
      ]
    },
    {
      "cell_type": "code",
      "execution_count": null,
      "metadata": {
        "colab": {
          "base_uri": "https://localhost:8080/",
          "height": 236
        },
        "id": "gq0ClC5Y139D",
        "outputId": "0fdb7cb6-2123-4e3e-8460-a915d506d6cd"
      },
      "outputs": [],
      "source": [
        "data.tail(2)"
      ]
    },
    {
      "cell_type": "code",
      "execution_count": null,
      "metadata": {
        "colab": {
          "base_uri": "https://localhost:8080/"
        },
        "id": "sBCYdubE13NP",
        "outputId": "0173c976-3e28-4f52-88b3-ebeae04b1dce"
      },
      "outputs": [],
      "source": [
        "data['price'].tail(5)"
      ]
    },
    {
      "cell_type": "code",
      "execution_count": null,
      "metadata": {},
      "outputs": [],
      "source": [
        "print(data['price'].tail(5))"
      ]
    },
    {
      "cell_type": "markdown",
      "metadata": {
        "id": "kt6HJt8H2LEU"
      },
      "source": [
        "* `min` y `max` que permiten obtener el valor mínimo y máximo de una serie, respectivamente."
      ]
    },
    {
      "cell_type": "code",
      "execution_count": null,
      "metadata": {
        "colab": {
          "base_uri": "https://localhost:8080/"
        },
        "id": "wOd0PSfy2Tql",
        "outputId": "ad558a26-79b4-40c1-e973-39a26b664762"
      },
      "outputs": [],
      "source": [
        "data['price'].min()"
      ]
    },
    {
      "cell_type": "code",
      "execution_count": null,
      "metadata": {
        "colab": {
          "base_uri": "https://localhost:8080/"
        },
        "id": "u5AGTFiO2Wlf",
        "outputId": "3aa162f9-838b-497e-bd23-e98552a02ea6"
      },
      "outputs": [],
      "source": [
        "data['price'].max()"
      ]
    },
    {
      "cell_type": "markdown",
      "metadata": {
        "id": "uNPIrCFk2WBv"
      },
      "source": [
        "* `describe` que realiza una descripción básica de una Serie.\n",
        "  * La cantidad de datos no nulos que contiene.\n",
        "  * El máximo y el mínimo.\n",
        "  * El promedio de los valores.\n",
        "  * La desviación estándar de los mismos.\n",
        "  * Los _cuartiles_: Son los tres valores que dividen a un conjunto de datos en cuatro partes iguales.\n"
      ]
    },
    {
      "cell_type": "code",
      "execution_count": 5,
      "metadata": {
        "colab": {
          "base_uri": "https://localhost:8080/"
        },
        "id": "rnGcxHBB2gZm",
        "outputId": "41dfb200-9194-425a-ac6e-1c1f73b65e51"
      },
      "outputs": [
        {
          "data": {
            "text/plain": [
              "count    6173.000000\n",
              "mean      198.019601\n",
              "std       140.546979\n",
              "min         0.000000\n",
              "25%       115.000000\n",
              "50%       160.000000\n",
              "75%       240.000000\n",
              "max      2500.000000\n",
              "Name: price, dtype: float64"
            ]
          },
          "execution_count": 5,
          "metadata": {},
          "output_type": "execute_result"
        }
      ],
      "source": [
        "data['price'].describe()"
      ]
    },
    {
      "cell_type": "markdown",
      "metadata": {
        "id": "yfkocYom3K2S"
      },
      "source": [
        "Podemos obtener mas información sobre `describe` y sobre cualquier otro método, utilizando la función integrada en el interprete `help`."
      ]
    },
    {
      "cell_type": "code",
      "execution_count": null,
      "metadata": {
        "colab": {
          "base_uri": "https://localhost:8080/"
        },
        "id": "CijqCTUk2qfb",
        "outputId": "c7ce4a46-4bf1-4717-c289-841578de813d"
      },
      "outputs": [],
      "source": [
        "help(pd.Series.describe)"
      ]
    },
    {
      "cell_type": "markdown",
      "metadata": {
        "id": "gD2Gvyi64Hkw"
      },
      "source": [
        "Otro método útil para una Serie es `value_counts`. Consultemos la ayuda para ver que hace:"
      ]
    },
    {
      "cell_type": "code",
      "execution_count": null,
      "metadata": {
        "colab": {
          "base_uri": "https://localhost:8080/"
        },
        "id": "3W6TlrVa4New",
        "outputId": "ded2fb13-43a8-48b4-edff-782c6ed28132"
      },
      "outputs": [],
      "source": [
        "help(pd.Series.value_counts)"
      ]
    },
    {
      "cell_type": "markdown",
      "metadata": {
        "id": "QwP-P4ro4USc"
      },
      "source": [
        "Este método nos da la frecuencia de ocurrencia de cada valor para una serie. Por ejemplo, podemos ver cuantos departamentos hay en alquiler en cada barrio:"
      ]
    },
    {
      "cell_type": "code",
      "execution_count": null,
      "metadata": {
        "colab": {
          "base_uri": "https://localhost:8080/"
        },
        "id": "whwanPT6byUa",
        "outputId": "cb74f7b6-473f-4fa0-c369-127bb4adfba1"
      },
      "outputs": [],
      "source": [
        "len(precio_por_barrio[\"Centrum-West\"])"
      ]
    },
    {
      "cell_type": "code",
      "execution_count": null,
      "metadata": {
        "colab": {
          "base_uri": "https://localhost:8080/"
        },
        "id": "YBvfjFtd4fEh",
        "outputId": "cb4cb78f-3cc6-45cc-90c5-cb499bfda75a"
      },
      "outputs": [],
      "source": [
        "data['neighbourhood'].value_counts()"
      ]
    },
    {
      "cell_type": "markdown",
      "metadata": {
        "id": "q5kYdlEK3mhU"
      },
      "source": [
        "Para un DataFrame, es importante conocer la _estructura_ del mismo, es decir, cuantas columnas y cuantas filas contiene. Esto lo podemos ver utilizando el atributo `shape`."
      ]
    },
    {
      "cell_type": "code",
      "execution_count": null,
      "metadata": {
        "colab": {
          "base_uri": "https://localhost:8080/"
        },
        "id": "CQwPvZ_L3lbr",
        "outputId": "fabd3bf0-c953-4cd9-e6ae-c17f952b130b"
      },
      "outputs": [],
      "source": [
        "data.shape"
      ]
    },
    {
      "cell_type": "markdown",
      "metadata": {
        "id": "M0PJicIC32uT"
      },
      "source": [
        "Esto nos indica que el archivo contiene 6173 observaciones y 18 columnas o _variables_."
      ]
    },
    {
      "cell_type": "markdown",
      "metadata": {
        "id": "lPOxGCYE9XsI"
      },
      "source": [
        "### Concepto de índice\n",
        "Como probablemente ya vieron en la materia de base de datos, los índices son un elemento muy importantes cuando almacenamos los datos.\n",
        "Es lo que nos permite referirnos a un dato de forma únivoca. Para determinar el índice de un dataset, vamos a buscar una variable/columna/característica única, es decir, que no tenga repetidos.\n",
        "\n",
        "Por ejemplo, si en nuestros datos del listing queremos identificar una publicación en particular, ¿como lo haríamos? ¿Con el precio? ¿Con el nombre de la publicación? ¡Probablemente no! Lo que haríamos es referirnos a un listing por su id.\n",
        "\n",
        "Una característica muy importante de los DFs y Series es que **siempre tienen un índice**. Cuando pandas abre un archivo, automáticamente genera un header, los nombres de las columnas, y genera un índice automáticamente que va de 0 a la longitud del archivo -1.\n",
        "\n",
        "En nuestros datos, vemos que si bien pandas genera un índice automático, no es el índice que queremos usar, el id del listing. Para poder cambiarlo, vamos a usar el método `df.set_index`\n"
      ]
    },
    {
      "cell_type": "code",
      "execution_count": null,
      "metadata": {
        "colab": {
          "base_uri": "https://localhost:8080/"
        },
        "id": "VugGKA3esaR3",
        "outputId": "b7d538eb-f7d7-4783-bcbc-4f2be446fc64"
      },
      "outputs": [],
      "source": [
        "# podemos obtener el nombre de las cabeceras utilizando el atributo `columns`.\n",
        "data.columns"
      ]
    },
    {
      "cell_type": "code",
      "execution_count": null,
      "metadata": {
        "colab": {
          "base_uri": "https://localhost:8080/",
          "height": 346
        },
        "id": "MdCpQ6gU83Uo",
        "outputId": "ab9b428c-64f1-4875-9855-5bebe7f1a959"
      },
      "outputs": [],
      "source": [
        "data.set_index('id').head(2)"
      ]
    },
    {
      "cell_type": "code",
      "execution_count": null,
      "metadata": {
        "colab": {
          "base_uri": "https://localhost:8080/",
          "height": 565
        },
        "id": "lXGY7FBE-Iir",
        "outputId": "a444b519-1841-4bb7-c3c6-fc7c39ad1ea1"
      },
      "outputs": [],
      "source": [
        "data.head()"
      ]
    },
    {
      "cell_type": "markdown",
      "metadata": {
        "id": "wLoe21u25GUZ"
      },
      "source": [
        "¿Que paso? Cambiamos el índice pero no se vio reflejado en el objeto `data`... ¿Que puede estar pasando?"
      ]
    },
    {
      "cell_type": "markdown",
      "metadata": {
        "id": "Cj9wRiO5s6mw"
      },
      "source": [
        "## La mutabilidad\n",
        "\n",
        "En la unidad de Programación Orientada a Objetos, vimos que existían dos tipos de métodos:\n",
        "\n",
        "* Los **métodos puros** que no modifican el estado del objeto sobre el cuál lo llamamos.\n",
        "* Los **métodos modificadores** que modifican el estado del objeto sobre el cuál lo llamamos.\n",
        "\n",
        "Por si están olvidados, veamos un ejemplo con una lista de python. Para ordenar una lista, podemos utilizar el método `.sort` ..."
      ]
    },
    {
      "cell_type": "code",
      "execution_count": null,
      "metadata": {
        "colab": {
          "base_uri": "https://localhost:8080/"
        },
        "id": "1KIyiWAC7mEK",
        "outputId": "c8342ad2-1020-4818-d816-d2eafbd58812"
      },
      "outputs": [],
      "source": [
        "A = [1, 2, 3, 4, 2, 1, 1]\n",
        "A.sort()\n",
        "print(A)"
      ]
    },
    {
      "cell_type": "markdown",
      "metadata": {
        "id": "q5RtPsLb7uXN"
      },
      "source": [
        "... que modifica la lista \"in place\". En el mismo objeto A se reordenan los elementos. O bien podemos hacer"
      ]
    },
    {
      "cell_type": "code",
      "execution_count": null,
      "metadata": {
        "colab": {
          "base_uri": "https://localhost:8080/"
        },
        "id": "niFtdvgc7teo",
        "outputId": "1c0cfd88-fb67-4d91-a945-2640783ba430"
      },
      "outputs": [],
      "source": [
        "A = [1, 2, 3, 4, 2, 1, 1]\n",
        "A_ordenada = sorted(A)\n",
        "print(A_ordenada)"
      ]
    },
    {
      "cell_type": "markdown",
      "metadata": {
        "id": "YplwR4G079_N"
      },
      "source": [
        "... que _devuelve_ o _retorna_ una nueva lista con los mismos elementos que A, pero en orden. Notar que aca la lista originar A **sigue existiendo**"
      ]
    },
    {
      "cell_type": "code",
      "execution_count": null,
      "metadata": {
        "colab": {
          "base_uri": "https://localhost:8080/"
        },
        "id": "4_QJxaDu79u8",
        "outputId": "33170ad5-20c1-4738-d9fb-0ef4e33cc220"
      },
      "outputs": [],
      "source": [
        "print(A)"
      ]
    },
    {
      "cell_type": "markdown",
      "metadata": {
        "id": "RJSPwVCo8L4D"
      },
      "source": [
        "Si queremos, podemos \"pisar\" la lista A con los valores ordenados simplemente asignando la misma variable al resultado"
      ]
    },
    {
      "cell_type": "code",
      "execution_count": null,
      "metadata": {
        "colab": {
          "base_uri": "https://localhost:8080/"
        },
        "id": "4LRguGwK8K4y",
        "outputId": "9d111796-a688-46f7-b545-e9a690a5e797"
      },
      "outputs": [],
      "source": [
        "A = [1, 2, 3, 4, 2, 1, 1]\n",
        "A = sorted(A)\n",
        "print(A)"
      ]
    },
    {
      "cell_type": "markdown",
      "metadata": {
        "id": "MT7qkUVI8W_F"
      },
      "source": [
        "En pandas ocurre lo mismo. Casi todos los métodos que modifiquen un dataframe o una serie aceptaran una versión `inplace` pasando el argumento `inplace=True` al método. Si no lo hacemos, pandas se comportará _retornando_ un nuevo objeto con las modificaciones que le pedimos. Luego será nuestra responsabilidad asignar ese objeto a una variable (que puede o no ser la misma, dependiendo de lo que querramos)."
      ]
    },
    {
      "cell_type": "code",
      "execution_count": null,
      "metadata": {
        "colab": {
          "base_uri": "https://localhost:8080/",
          "height": 302
        },
        "id": "qvdVcTSg8lzk",
        "outputId": "fabd7011-41c1-4782-c49d-d45c840d3d9c"
      },
      "outputs": [],
      "source": [
        "# data.set_index('id', inplace = True) #cambia el índice inplace\n",
        "data = data.set_index(\"id\")\n",
        "data.head(2)"
      ]
    },
    {
      "cell_type": "markdown",
      "metadata": {
        "id": "yQooiCzF9L9c"
      },
      "source": [
        "**Convención**: Por convención, evitaremos el uso de `inplace=True` y trabajaremos con métodos puros y objetos nuevos siempre que sea posible."
      ]
    },
    {
      "cell_type": "markdown",
      "metadata": {
        "id": "m9F9lfLUAFS_"
      },
      "source": [
        "## Indexar\n",
        "Pandas nos permite acceder a la información dentro de sus DFs y Series mediante sus índices con los atributos .loc y .iloc. `loc` nos permite acceder a los índices por su valor y `iloc` por su posición.\n",
        "Vamos a poder acceder a un índice o a varios. Y también vamos a poder incluir las columnas"
      ]
    },
    {
      "cell_type": "markdown",
      "metadata": {
        "id": "XLnC6OmG9XtA"
      },
      "source": [
        "* Primer sabor de loc: Si le pasamos un indice con un valor particular nos devueelve una Serie, donde el indice de la serie son las columnas del dataframe."
      ]
    },
    {
      "cell_type": "code",
      "execution_count": null,
      "metadata": {
        "colab": {
          "base_uri": "https://localhost:8080/"
        },
        "id": "0ucQ-JYRAEzW",
        "outputId": "489ce9b3-3ba1-43dd-dfb2-015ad4b6196a"
      },
      "outputs": [],
      "source": [
        "data.loc[31553121]"
      ]
    },
    {
      "cell_type": "markdown",
      "metadata": {
        "id": "Ap_eRPgT9pbl"
      },
      "source": [
        "* Segundo sabor de loc: Podemos pasarle una lista de indices y nos devuelve un dataframe solo con aquellos indices"
      ]
    },
    {
      "cell_type": "code",
      "execution_count": null,
      "metadata": {
        "colab": {
          "base_uri": "https://localhost:8080/",
          "height": 302
        },
        "id": "Ib_rPE_T9pAI",
        "outputId": "b695d82f-028f-456a-f37f-fdb8f7f07d67"
      },
      "outputs": [],
      "source": [
        "data.loc[[23726706, 35815036]]"
      ]
    },
    {
      "cell_type": "markdown",
      "metadata": {
        "id": "Rp2islkD94zX"
      },
      "source": [
        "* Tercer sabor de loc: Podemos pasarle, ademas, que columna nos interesa. En este caso nos devolverá una serie solo con los indices que le pedimos"
      ]
    },
    {
      "cell_type": "code",
      "execution_count": null,
      "metadata": {
        "colab": {
          "base_uri": "https://localhost:8080/"
        },
        "id": "XgQ5ejTrA9G7",
        "outputId": "b9ef953e-2048-4534-8caa-b4c0c2ac3c38"
      },
      "outputs": [],
      "source": [
        "data.loc[[31553121], 'price']"
      ]
    },
    {
      "cell_type": "markdown",
      "metadata": {
        "id": "KdTCB-xj-EgP"
      },
      "source": [
        "* Cuarto sabor de loc: Podemos pasarle una lista de las columnas que queremos. En este caso, nos devolvera un dataframe, que contiene solo los indices que le pedimos y solo las columnas que le pedimos."
      ]
    },
    {
      "cell_type": "code",
      "execution_count": null,
      "metadata": {
        "colab": {
          "base_uri": "https://localhost:8080/",
          "height": 143
        },
        "id": "cq9eX2gtAYZq",
        "outputId": "97579450-f010-48bc-8265-0d48752d7062"
      },
      "outputs": [],
      "source": [
        "data.loc[[23726706, 35815036], ['price']]"
      ]
    },
    {
      "cell_type": "markdown",
      "metadata": {
        "id": "ZdFjKksv-PNV"
      },
      "source": [
        "**Convención** Si bien `iloc`, que sirve para acceder a los indices y a las columnas por su posicion y no por su nombre puede ser de utilidad en ciertas situaciones, _lo evitaremos_ siempre que sea posible."
      ]
    },
    {
      "cell_type": "markdown",
      "metadata": {
        "id": "VmvBMf4jv-7P"
      },
      "source": [
        "## Haciendo cambios al dataset\n",
        "\n",
        "### Agregar una columna\n",
        "\n",
        "Si que"
      ]
    },
    {
      "cell_type": "markdown",
      "metadata": {
        "id": "pe7BzQ2vuc7g"
      },
      "source": [
        "## Ejercicio 1 (15-20 mins):\n",
        "\n",
        "1. Cargar el archivo `pokemon_data.txt` a un archivo. Deberán investigar el formato del archivo y buscar en las opciones de la función `read_csv` para poder cargarlo correctamente.\n",
        "2. ¿Como se llaman las columnas de nuestro dataset? ¿Que tipo tiene cada una?\n",
        "3. Elegir (y setear) un indice para el dataset.\n",
        "4. Obtener el ataque promedio de un pokemon.\n",
        "5. Obtener el ataque promedio de un pokemon de primera generacion.\n",
        "6. Contar cuantos pokemones legendarios y no legendarios hay.\n",
        "7. Investigar el método `.sort_values` utilizando la función `help` o la documentación de pandas. Utilizarlo para ordenar los pokemons por puntos de salud (HP) desde el mayor al menor."
      ]
    },
    {
      "cell_type": "code",
      "execution_count": 49,
      "metadata": {},
      "outputs": [
        {
          "data": {
            "text/html": [
              "<div>\n",
              "<style scoped>\n",
              "    .dataframe tbody tr th:only-of-type {\n",
              "        vertical-align: middle;\n",
              "    }\n",
              "\n",
              "    .dataframe tbody tr th {\n",
              "        vertical-align: top;\n",
              "    }\n",
              "\n",
              "    .dataframe thead th {\n",
              "        text-align: right;\n",
              "    }\n",
              "</style>\n",
              "<table border=\"1\" class=\"dataframe\">\n",
              "  <thead>\n",
              "    <tr style=\"text-align: right;\">\n",
              "      <th></th>\n",
              "      <th>#</th>\n",
              "      <th>Name</th>\n",
              "      <th>Type 1</th>\n",
              "      <th>Type 2</th>\n",
              "      <th>HP</th>\n",
              "      <th>Attack</th>\n",
              "      <th>Defense</th>\n",
              "      <th>Sp. Atk</th>\n",
              "      <th>Sp. Def</th>\n",
              "      <th>Speed</th>\n",
              "      <th>Generation</th>\n",
              "      <th>Legendary</th>\n",
              "    </tr>\n",
              "  </thead>\n",
              "  <tbody>\n",
              "    <tr>\n",
              "      <th>0</th>\n",
              "      <td>1</td>\n",
              "      <td>Bulbasaur</td>\n",
              "      <td>Grass</td>\n",
              "      <td>Poison</td>\n",
              "      <td>45</td>\n",
              "      <td>49</td>\n",
              "      <td>49</td>\n",
              "      <td>65</td>\n",
              "      <td>65</td>\n",
              "      <td>45</td>\n",
              "      <td>1</td>\n",
              "      <td>False</td>\n",
              "    </tr>\n",
              "    <tr>\n",
              "      <th>1</th>\n",
              "      <td>2</td>\n",
              "      <td>Ivysaur</td>\n",
              "      <td>Grass</td>\n",
              "      <td>Poison</td>\n",
              "      <td>60</td>\n",
              "      <td>62</td>\n",
              "      <td>63</td>\n",
              "      <td>80</td>\n",
              "      <td>80</td>\n",
              "      <td>60</td>\n",
              "      <td>1</td>\n",
              "      <td>False</td>\n",
              "    </tr>\n",
              "  </tbody>\n",
              "</table>\n",
              "</div>"
            ],
            "text/plain": [
              "   #       Name Type 1  Type 2  HP  Attack  Defense  Sp. Atk  Sp. Def  Speed  \\\n",
              "0  1  Bulbasaur  Grass  Poison  45      49       49       65       65     45   \n",
              "1  2    Ivysaur  Grass  Poison  60      62       63       80       80     60   \n",
              "\n",
              "   Generation  Legendary  \n",
              "0           1      False  \n",
              "1           1      False  "
            ]
          },
          "execution_count": 49,
          "metadata": {},
          "output_type": "execute_result"
        }
      ],
      "source": [
        "# Ej 1\n",
        "df = pd.read_csv('pokemon_data.txt', sep='\\t', header=0, engine='python')\n",
        "df.head(2)\n"
      ]
    },
    {
      "cell_type": "code",
      "execution_count": 41,
      "metadata": {},
      "outputs": [
        {
          "data": {
            "text/plain": [
              "Index(['#', 'Name', 'Type 1', 'Type 2', 'HP', 'Attack', 'Defense', 'Sp. Atk',\n",
              "       'Sp. Def', 'Speed', 'Generation', 'Legendary'],\n",
              "      dtype='object')"
            ]
          },
          "execution_count": 41,
          "metadata": {},
          "output_type": "execute_result"
        }
      ],
      "source": [
        "# Ej 2\n",
        "df.columns"
      ]
    },
    {
      "cell_type": "code",
      "execution_count": 44,
      "metadata": {},
      "outputs": [
        {
          "data": {
            "text/html": [
              "<div>\n",
              "<style scoped>\n",
              "    .dataframe tbody tr th:only-of-type {\n",
              "        vertical-align: middle;\n",
              "    }\n",
              "\n",
              "    .dataframe tbody tr th {\n",
              "        vertical-align: top;\n",
              "    }\n",
              "\n",
              "    .dataframe thead th {\n",
              "        text-align: right;\n",
              "    }\n",
              "</style>\n",
              "<table border=\"1\" class=\"dataframe\">\n",
              "  <thead>\n",
              "    <tr style=\"text-align: right;\">\n",
              "      <th></th>\n",
              "      <th>Name</th>\n",
              "      <th>Type 1</th>\n",
              "      <th>Type 2</th>\n",
              "      <th>HP</th>\n",
              "      <th>Attack</th>\n",
              "      <th>Defense</th>\n",
              "      <th>Sp. Atk</th>\n",
              "      <th>Sp. Def</th>\n",
              "      <th>Speed</th>\n",
              "      <th>Generation</th>\n",
              "      <th>Legendary</th>\n",
              "    </tr>\n",
              "    <tr>\n",
              "      <th>#</th>\n",
              "      <th></th>\n",
              "      <th></th>\n",
              "      <th></th>\n",
              "      <th></th>\n",
              "      <th></th>\n",
              "      <th></th>\n",
              "      <th></th>\n",
              "      <th></th>\n",
              "      <th></th>\n",
              "      <th></th>\n",
              "      <th></th>\n",
              "    </tr>\n",
              "  </thead>\n",
              "  <tbody>\n",
              "    <tr>\n",
              "      <th>1</th>\n",
              "      <td>Bulbasaur</td>\n",
              "      <td>Grass</td>\n",
              "      <td>Poison</td>\n",
              "      <td>45</td>\n",
              "      <td>49</td>\n",
              "      <td>49</td>\n",
              "      <td>65</td>\n",
              "      <td>65</td>\n",
              "      <td>45</td>\n",
              "      <td>1</td>\n",
              "      <td>False</td>\n",
              "    </tr>\n",
              "    <tr>\n",
              "      <th>2</th>\n",
              "      <td>Ivysaur</td>\n",
              "      <td>Grass</td>\n",
              "      <td>Poison</td>\n",
              "      <td>60</td>\n",
              "      <td>62</td>\n",
              "      <td>63</td>\n",
              "      <td>80</td>\n",
              "      <td>80</td>\n",
              "      <td>60</td>\n",
              "      <td>1</td>\n",
              "      <td>False</td>\n",
              "    </tr>\n",
              "  </tbody>\n",
              "</table>\n",
              "</div>"
            ],
            "text/plain": [
              "        Name Type 1  Type 2  HP  Attack  Defense  Sp. Atk  Sp. Def  Speed  \\\n",
              "#                                                                           \n",
              "1  Bulbasaur  Grass  Poison  45      49       49       65       65     45   \n",
              "2    Ivysaur  Grass  Poison  60      62       63       80       80     60   \n",
              "\n",
              "   Generation  Legendary  \n",
              "#                         \n",
              "1           1      False  \n",
              "2           1      False  "
            ]
          },
          "execution_count": 44,
          "metadata": {},
          "output_type": "execute_result"
        }
      ],
      "source": [
        "# Ej 3\n",
        "df.set_index('#').head(2)"
      ]
    },
    {
      "cell_type": "code",
      "execution_count": 45,
      "metadata": {},
      "outputs": [
        {
          "data": {
            "text/plain": [
              "79.00125"
            ]
          },
          "execution_count": 45,
          "metadata": {},
          "output_type": "execute_result"
        }
      ],
      "source": [
        "# Ej 4\n",
        "df['Attack'].mean()"
      ]
    },
    {
      "cell_type": "code",
      "execution_count": 47,
      "metadata": {},
      "outputs": [
        {
          "data": {
            "text/plain": [
              "76.63855421686748"
            ]
          },
          "execution_count": 47,
          "metadata": {},
          "output_type": "execute_result"
        }
      ],
      "source": [
        "# Ej 5\n",
        "df[df['Generation'] == 1]['Attack'].mean()"
      ]
    },
    {
      "cell_type": "code",
      "execution_count": 53,
      "metadata": {},
      "outputs": [
        {
          "data": {
            "text/plain": [
              "(735, 65)"
            ]
          },
          "execution_count": 53,
          "metadata": {},
          "output_type": "execute_result"
        }
      ],
      "source": [
        "# Ej 6\n",
        "df[df['Legendary'] == False]['Name'].count(),df[df['Legendary'] == True]['Name'].count()"
      ]
    },
    {
      "cell_type": "code",
      "execution_count": 63,
      "metadata": {},
      "outputs": [
        {
          "data": {
            "text/plain": [
              "261    255\n",
              "121    250\n",
              "217    190\n",
              "351    170\n",
              "655    165\n",
              "      ... \n",
              "139     20\n",
              "381     20\n",
              "388     20\n",
              "55      10\n",
              "316      1\n",
              "Name: HP, Length: 800, dtype: int64"
            ]
          },
          "execution_count": 63,
          "metadata": {},
          "output_type": "execute_result"
        }
      ],
      "source": [
        "# Ej 7\n",
        "df['HP'].sort_values(ascending=False)"
      ]
    },
    {
      "cell_type": "markdown",
      "metadata": {
        "id": "uYnQRvp8A6Tn"
      },
      "source": [
        "### Crear un DataFrame\n",
        "También podemos crear un DataFrame manualmente. ¡Hay muchas maneras de hacerlo!"
      ]
    },
    {
      "cell_type": "markdown",
      "metadata": {
        "id": "6upEgbYk-mNz"
      },
      "source": [
        "Instanciamos el objeto diciendo que indices y columnas queremos que tenga y luego \"rellenamos\" esa tabla:"
      ]
    },
    {
      "cell_type": "code",
      "execution_count": null,
      "metadata": {
        "colab": {
          "base_uri": "https://localhost:8080/"
        },
        "id": "JWers0y6Abth",
        "outputId": "267c3ac7-ec34-4561-8fa7-da34a7b0fbab"
      },
      "outputs": [],
      "source": [
        "df = pd.DataFrame(index = [1,2,3,4], columns = ['col1', 'col2'])\n",
        "\n",
        "# Podemos utilizar loc/iloc para \"rellenar\" el DF!\n",
        "\n",
        "df.loc[1, \"col1\"] = 2\n",
        "df.loc[2, \"col2\"] = 5\n",
        "df.loc[2, \"col2\"] = 3\n",
        "# print(df.loc[2, \"col2\"])\n",
        "print(df)"
      ]
    },
    {
      "cell_type": "markdown",
      "metadata": {
        "id": "GK_hpz2S_AOa"
      },
      "source": [
        "Sin embargo, lo mas común es leer directamente el DataFrame de una fuente de datos tabular con la familia de funciones `read_*`. Hay una para cada necesidad pero las mas usadas son:\n",
        "\n",
        "* `read_csv` para leer un archivo en formato csv.\n",
        "* `read_excel` para leer un archivo en formato excel.\n",
        "\n",
        "**Tarea**: Leer la documentacion de estas funciones."
      ]
    },
    {
      "cell_type": "markdown",
      "metadata": {
        "id": "KLT9NvsSDHyM"
      },
      "source": [
        "### Operadores\n",
        "Veamos que operaciones podemos aplicarle a una Serie de pandas"
      ]
    },
    {
      "cell_type": "code",
      "execution_count": null,
      "metadata": {
        "id": "5_T69xE5E_F4"
      },
      "outputs": [],
      "source": [
        "import numpy as np"
      ]
    },
    {
      "cell_type": "code",
      "execution_count": null,
      "metadata": {
        "colab": {
          "base_uri": "https://localhost:8080/",
          "height": 363
        },
        "id": "Ny7Nr6BCBJ7l",
        "outputId": "b6423a90-8463-4a9b-8e3e-821e1334954b"
      },
      "outputs": [],
      "source": [
        "df = pd.DataFrame(index = list(range(10)), columns = ['a', 'b', 'c'])\n",
        "df['a'] = np.random.rand(10,1)\n",
        "df['b'] = 1\n",
        "df['c'] = np.random.rand(10,1)\n",
        "df"
      ]
    },
    {
      "cell_type": "code",
      "execution_count": null,
      "metadata": {
        "colab": {
          "base_uri": "https://localhost:8080/"
        },
        "id": "5BusDNmXBHls",
        "outputId": "f1c39c9d-4661-4c7a-db1e-dc79fcbb0317"
      },
      "outputs": [],
      "source": [
        "# suma\n",
        "df['a'] + df['b']"
      ]
    },
    {
      "cell_type": "code",
      "execution_count": null,
      "metadata": {
        "colab": {
          "base_uri": "https://localhost:8080/",
          "height": 363
        },
        "id": "ZoQOpPenExVw",
        "outputId": "24421320-20ad-460b-d727-e9c7df3a0dde"
      },
      "outputs": [],
      "source": [
        "# Podemos guardar la serie resultado en una nueva columna asi de facil:\n",
        "df['d'] = df['a'] + df['b']\n",
        "df"
      ]
    },
    {
      "cell_type": "code",
      "execution_count": null,
      "metadata": {
        "colab": {
          "base_uri": "https://localhost:8080/"
        },
        "id": "pi9VOrOFEzTb",
        "outputId": "c0d76ed5-bb40-4ea1-8c62-9f09597e15c9"
      },
      "outputs": [],
      "source": [
        "# resta\n",
        "df['a'] - df['b']"
      ]
    },
    {
      "cell_type": "code",
      "execution_count": null,
      "metadata": {
        "colab": {
          "base_uri": "https://localhost:8080/"
        },
        "id": "XwVywc5lFcbz",
        "outputId": "c9f15a07-9aa5-408a-c6a6-6a48e24e5cc8"
      },
      "outputs": [],
      "source": [
        "# multiplicación\n",
        "df['a'] * df['b']\n"
      ]
    },
    {
      "cell_type": "markdown",
      "metadata": {
        "id": "2vU6kSSwyp3p"
      },
      "source": [
        "## Ejercicio 2 (5min)\n",
        "1. Utilizando el dataset de los pokemons, calcular para cada pokemon la suma de sus estadisticas (Puntos de salud + Ataque + Defensa + Ataque Especial + Defensa especial + Velocidad)"
      ]
    },
    {
      "cell_type": "markdown",
      "metadata": {
        "id": "PC8Eh47s_swC"
      },
      "source": [
        "# El famoso NaN"
      ]
    },
    {
      "cell_type": "markdown",
      "metadata": {
        "id": "fkoKDtvp_237"
      },
      "source": [
        "Cuando trabajamos con un DataFrame, especialmente si es extenso, podemos tener problemas con lo valores NaN. Los NaN (“Not a Number“) son valores vacíos no computables que debemos tratar en nuestros conjuntos de datos antes de trabajar con ellos.\n",
        "\n",
        "**Nota** Si bien NaN significa Not a Number, es un valor que no es un número, ni un string, ni ningun tipo de objeto conocido, ni siquiera `None`!. Es un valor especial que se utiliza en pandas para marcar aqullas posiciones de la tabla donde no hay ningún valor válido.\n",
        "\n",
        "Veremos algunos códigos de Python que pueden ayudarnos a trabajar con los NaN.\n",
        "\n",
        "* Podemos utilizar lo siguiente para saber si hay algún valor NaN en nuestro DataFrame"
      ]
    },
    {
      "cell_type": "code",
      "execution_count": null,
      "metadata": {
        "colab": {
          "base_uri": "https://localhost:8080/"
        },
        "id": "6vNkgwWi_1zf",
        "outputId": "556cf819-2aeb-45bd-a7f1-bf329bd23198"
      },
      "outputs": [],
      "source": [
        "data.isnull().values.any()\n"
      ]
    },
    {
      "cell_type": "markdown",
      "metadata": {
        "id": "8GI53-0OAi9c"
      },
      "source": [
        "Hay valores faltantes! Para saber en que columnas se encuentran hacemos:"
      ]
    },
    {
      "cell_type": "code",
      "execution_count": null,
      "metadata": {
        "colab": {
          "base_uri": "https://localhost:8080/"
        },
        "id": "pOqhpew4AijB",
        "outputId": "ce717756-6d61-4e2f-f61f-d1eb6fc2f395"
      },
      "outputs": [],
      "source": [
        "data.isnull().any()\n"
      ]
    },
    {
      "cell_type": "markdown",
      "metadata": {
        "id": "5dA2kAIrAspA"
      },
      "source": [
        "Vemos que tenemos valores faltantes en las columnas `neighbourhood_group` y otras. Para ver _cuantos_ valores faltan, podemos reemplazar `any` por `sum` en el codigo anterior:"
      ]
    },
    {
      "cell_type": "code",
      "execution_count": null,
      "metadata": {
        "colab": {
          "base_uri": "https://localhost:8080/"
        },
        "id": "lFLWzJIeAfzH",
        "outputId": "5c590fbe-678a-431b-cc16-a1179a5d6cea"
      },
      "outputs": [],
      "source": [
        "data.isnull().sum()"
      ]
    },
    {
      "cell_type": "markdown",
      "metadata": {
        "id": "WTd_mRlEA-s8"
      },
      "source": [
        "Podemos aplicar el método `sum` nuevamente para contar cuantos NaN tenemos en total:"
      ]
    },
    {
      "cell_type": "code",
      "execution_count": null,
      "metadata": {
        "colab": {
          "base_uri": "https://localhost:8080/"
        },
        "id": "1Li5wJ7XA-TO",
        "outputId": "472402d9-816a-492d-c0dc-4bddf4c71718"
      },
      "outputs": [],
      "source": [
        "data.isnull().sum().sum()\n"
      ]
    },
    {
      "cell_type": "markdown",
      "metadata": {
        "id": "eyjWW5tnBPTA"
      },
      "source": [
        "Dependiendo que analisis querramos hacer, quizá tengamos que remover esos valores faltantes de nuestro DataFrame. Esto lo podemos hacer con el método `dropna`, veamos la ayuda para saber como utilizarlo:"
      ]
    },
    {
      "cell_type": "code",
      "execution_count": null,
      "metadata": {
        "colab": {
          "base_uri": "https://localhost:8080/"
        },
        "id": "-N4zJQfuBPA9",
        "outputId": "3989fb7e-ec9c-4d22-bba4-0b9aac1830e3"
      },
      "outputs": [],
      "source": [
        "help(pd.DataFrame.dropna)"
      ]
    },
    {
      "cell_type": "markdown",
      "metadata": {
        "id": "5zO2HdyRBlDw"
      },
      "source": [
        "Aja! Lo podemos usar en dos modos. Para obtener un DataFrame sin los indices que tienen valores faltantes para alguna columna:"
      ]
    },
    {
      "cell_type": "code",
      "execution_count": null,
      "metadata": {
        "colab": {
          "base_uri": "https://localhost:8080/"
        },
        "id": "JX4QyKqnBkDR",
        "outputId": "0b00bb3f-523d-4c8a-f5ec-e09b2c570a9a"
      },
      "outputs": [],
      "source": [
        "data_sin_indices_con_valores_faltantes = data.dropna(axis='index')\n",
        "print(data_sin_indices_con_valores_faltantes.shape)"
      ]
    },
    {
      "cell_type": "code",
      "execution_count": null,
      "metadata": {
        "colab": {
          "base_uri": "https://localhost:8080/",
          "height": 144
        },
        "id": "EHSKv2fEljOw",
        "outputId": "886f56df-9d85-4bf7-d4a8-b65ea63ad552"
      },
      "outputs": [],
      "source": [
        "data_sin_indices_con_valores_faltantes"
      ]
    },
    {
      "cell_type": "markdown",
      "metadata": {
        "id": "qqfcKg-3COVb"
      },
      "source": [
        "No nos queda ningun valor! Esto es porque la columna `neighbourhood_group` era vacia, no contenia ningun valor. Entonces en este caso puede ser mejor obtener el dataframe que tenga todos los datos - pero sin las columnas que tienen valores faltantes."
      ]
    },
    {
      "cell_type": "code",
      "execution_count": null,
      "metadata": {
        "colab": {
          "base_uri": "https://localhost:8080/"
        },
        "id": "EvpxA7DbCd_D",
        "outputId": "f0820c87-8609-41c3-e8fb-cfee34d4e9d9"
      },
      "outputs": [],
      "source": [
        "data_sin_columnas_con_valores_faltantes = data.dropna(axis='columns')\n",
        "print(data_sin_columnas_con_valores_faltantes.shape)"
      ]
    },
    {
      "cell_type": "markdown",
      "metadata": {
        "id": "l3Jglu6mCstR"
      },
      "source": [
        "Otra opción, que puede ser útil en ciertos casos, es reemplazar todos los valores faltantes por algo que sea un valor típico para dicha variable. Para ejemplificar, veamos como podriamos \"rellenar\" los valores de `reviews_per_month` con 0, o con el valor promedio de todos los valores para los que si tengo el dato:"
      ]
    },
    {
      "cell_type": "code",
      "execution_count": null,
      "metadata": {
        "colab": {
          "base_uri": "https://localhost:8080/"
        },
        "id": "f2Grf84GDhVu",
        "outputId": "6293d3cf-b5b9-41a7-de16-befe0e56b765"
      },
      "outputs": [],
      "source": [
        "data['reviews_per_month']"
      ]
    },
    {
      "cell_type": "code",
      "execution_count": null,
      "metadata": {
        "colab": {
          "base_uri": "https://localhost:8080/"
        },
        "id": "QNhCa61zDnHu",
        "outputId": "bc3f30d3-fefb-4502-8c52-9e8e6e526019"
      },
      "outputs": [],
      "source": [
        "data['reviews_per_month'].fillna(0)"
      ]
    },
    {
      "cell_type": "code",
      "execution_count": null,
      "metadata": {
        "colab": {
          "base_uri": "https://localhost:8080/"
        },
        "id": "XEnahGRYDYFZ",
        "outputId": "02b6f251-d8d7-4848-920b-438116b27d3b"
      },
      "outputs": [],
      "source": [
        "data['reviews_per_month'].fillna(data['reviews_per_month'].mean())"
      ]
    },
    {
      "cell_type": "markdown",
      "metadata": {
        "id": "9qRN7BbGDsce"
      },
      "source": [
        "# Filtrado de datos\n",
        "\n",
        "Muchas veces no queremos realizar el analisis sobre todo el dataFrame, si no solo sobre una porcion. Para ello pandas nos permite realizar filtrados.\n",
        "\n",
        "El filtrado se hace por condiciones, es decir nos quedamos con el subconjunto de datos que cumple cierta restricción. Por ejemplo, para obtener todos los departamentos que tiene al menos dos reviews por mes:"
      ]
    },
    {
      "cell_type": "code",
      "execution_count": null,
      "metadata": {
        "colab": {
          "base_uri": "https://localhost:8080/",
          "height": 1000
        },
        "id": "Z083wuZbEeoN",
        "outputId": "f6575afe-6f72-4c37-c8f7-03a6508203a9"
      },
      "outputs": [],
      "source": [
        "data[ data['reviews_per_month'] >= 2 ]"
      ]
    },
    {
      "cell_type": "markdown",
      "metadata": {
        "id": "OZWlA2wfFP8g"
      },
      "source": [
        "Se puede filtar por condiciones **compuestas**, es decir por proposiciones complejas que involucren operadores lógicos. Los operadores lógicos son los siguientes:\n",
        "\n",
        "* Y: se deben cumplir ambas condiciones para que el dato este en el resultado, similar al `and` que hacemos en los condicionales de Python, pero acá se utiliza el operador ampersand &.\n",
        "* O: se debe cumplir al menos una de las dos condiciones para que el datos este en el resultado, similar al `or` que hacemos en los condicionales de Python, pero acá se utiliza el operador pipe | .\n",
        "* NO: no se debe cumplir la condicion para que el dato este en el resultado, similar al `not` nativo, solo que se utiliza la virgulilla como operador ~.\n",
        "\n",
        "Por ejemplo, podemos obtener todos los departamentos que tengan al menos 2 reviews por mes y ademas al menos 90 reviews en total de la siguiente forma"
      ]
    },
    {
      "cell_type": "code",
      "execution_count": null,
      "metadata": {
        "colab": {
          "base_uri": "https://localhost:8080/",
          "height": 1000
        },
        "id": "U4_46G0WHkBp",
        "outputId": "41e4bbcc-a86d-4930-d704-0abe77e8a939"
      },
      "outputs": [],
      "source": [
        "data[ (data['reviews_per_month'] >= 2) & (data['number_of_reviews'] >= 90) ]"
      ]
    },
    {
      "cell_type": "markdown",
      "metadata": {
        "id": "zdj98QJXEeJr"
      },
      "source": [
        "**Nota**: Las condiciones para filtrar se pueden complejizar tanto como se desee. Es importante encerrar entre parentesis cada condicion para evitar errores.\n",
        "\n",
        "Para filtrar por valores numericos, podemos utilizar los operadores de comparacion. Para filtrar por strings, tambien podemos filtrar por igualdad. Por ejemplo, podemos obtener todos los departamos que tengan `room_type` igual a \"Private room\":"
      ]
    },
    {
      "cell_type": "code",
      "execution_count": null,
      "metadata": {
        "colab": {
          "base_uri": "https://localhost:8080/",
          "height": 1000
        },
        "id": "z5D6DKsVH7cJ",
        "outputId": "51e00e58-c619-420e-df6e-1055a11ad590"
      },
      "outputs": [],
      "source": [
        "data[ data['room_type'] == \"Private room\" ]"
      ]
    },
    {
      "cell_type": "markdown",
      "metadata": {
        "id": "11_3TCcQIgD1"
      },
      "source": [
        "Tambien podemos hacer busquedas mas complejas. Para verlo, carguemos la version del dataset de listings que contiene las descripciones de cada apartamento."
      ]
    },
    {
      "cell_type": "code",
      "execution_count": null,
      "metadata": {
        "colab": {
          "base_uri": "https://localhost:8080/"
        },
        "id": "xwFyEp7hIbfn",
        "outputId": "e3f012f8-3cf8-4382-d00d-2ac6caac5ec7"
      },
      "outputs": [],
      "source": [
        "data_completo = pd.read_csv('listings.csv.gz')\n",
        "data_completo = data_completo.dropna(axis='index', subset=['description'])\n",
        "data_completo.columns"
      ]
    },
    {
      "cell_type": "code",
      "execution_count": null,
      "metadata": {
        "colab": {
          "base_uri": "https://localhost:8080/"
        },
        "id": "Gj5deI_cJMK5",
        "outputId": "974d9a1c-98d7-4d5a-82fc-078ff4c449be"
      },
      "outputs": [],
      "source": [
        "data_completo['description'].head(2)"
      ]
    },
    {
      "cell_type": "markdown",
      "metadata": {
        "id": "HaTzYvT4JUQX"
      },
      "source": [
        "¿Podremos encontrar todos los departamentos que mencionen la palabra \"gato\" (cat) en descripcion?"
      ]
    },
    {
      "cell_type": "code",
      "execution_count": null,
      "metadata": {
        "colab": {
          "base_uri": "https://localhost:8080/",
          "height": 143
        },
        "id": "DKdmLVvcJmLy",
        "outputId": "4c0d02f6-1456-44dd-c324-d5aa92921604"
      },
      "outputs": [],
      "source": [
        "data_completo[ data_completo['description'] == \"cat\" ]"
      ]
    },
    {
      "cell_type": "code",
      "execution_count": null,
      "metadata": {
        "colab": {
          "base_uri": "https://localhost:8080/",
          "height": 191
        },
        "id": "VxNjSMR4Juzl",
        "outputId": "804a3111-5db3-4fb9-eefd-167bac1c4c6a"
      },
      "outputs": [],
      "source": [
        "data_completo[ data_completo['description'].str.contains(\" cat \") ][\"description\"].iloc[2]"
      ]
    },
    {
      "cell_type": "markdown",
      "metadata": {
        "id": "v9kA63nwpA87"
      },
      "source": []
    },
    {
      "cell_type": "markdown",
      "metadata": {
        "id": "gGhlbqO_KSM6"
      },
      "source": [
        "El descriptor `str` nos da acceso a utilizar los métodos de strings sobre una serie que contiene strings. En el ejemplo utilizamos `contains` pero podriamos utilizar tambien split, replace, etc.\n",
        "\n",
        "\n",
        "\n"
      ]
    },
    {
      "cell_type": "markdown",
      "metadata": {
        "id": "fN5KaCVJK0Q9"
      },
      "source": [
        "## Ejercicio 3 - hasta el fin de clase:\n",
        "\n",
        "Descargar el archivo de distribución de empleo formal en el AMBA de este [link](https://www.datos.gob.ar/dataset/produccion-distribucion-empleo-formal-amba) (el que en su título dice hasta CLAE2)\n",
        "\n",
        "1. Leer el archivo con pandas dataframe.\n",
        "2. Determinar cual debe ser el indice del dataframe.\n",
        "3. Realizar un analisis de valores faltantes, tomar acciones en consecuencia.\n",
        "4.   Calcular la cantidad de departamentos y sectores (CLAE 2 dígitos) qué emplean:\n",
        "\n",
        "  1.   solo hombres\n",
        "  2.   solo mujeres\n",
        "  3.   a ambos géneros\n",
        "\n",
        "5. Calcular la remuneración media para hombres y para mujeres\n",
        "6. Calcular la remuneración media para mujeres en el CLAE = 6\n",
        "\n",
        "Nota: realizar consideración acerca del promedio de promedios\n",
        "\n",
        "7. Leer la documentación, e investigar el uso, de los siguientes métodos de pandas:\n",
        "  - where\n",
        "  - mask\n",
        "  - clip\n",
        "  - sort_values\n",
        "  - rename\n",
        "  - unique"
      ]
    }
  ],
  "metadata": {
    "colab": {
      "collapsed_sections": [
        "zcXzxEsU7kn6"
      ],
      "provenance": [],
      "toc_visible": true
    },
    "kernelspec": {
      "display_name": "Python 3",
      "name": "python3"
    },
    "language_info": {
      "codemirror_mode": {
        "name": "ipython",
        "version": 3
      },
      "file_extension": ".py",
      "mimetype": "text/x-python",
      "name": "python",
      "nbconvert_exporter": "python",
      "pygments_lexer": "ipython3",
      "version": "3.10.12"
    }
  },
  "nbformat": 4,
  "nbformat_minor": 0
}
