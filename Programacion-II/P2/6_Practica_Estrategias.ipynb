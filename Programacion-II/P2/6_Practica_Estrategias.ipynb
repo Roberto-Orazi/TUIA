{
  "cells": [
    {
      "cell_type": "markdown",
      "metadata": {
        "id": "7u24cwGnQTGB"
      },
      "source": [
        "# Práctica 6: Estrategias de Algoritmos"
      ]
    },
    {
      "cell_type": "markdown",
      "metadata": {
        "id": "FXKGUU31xj5f"
      },
      "source": [
        "# Generadores\n",
        "\n",
        "Los generadores en Python son una herramienta expresiva muy poderosa, que como veremos nos va a permitir resolver algunos problemas más fácilmente, ¡y otros más eficientemente!\n",
        "\n",
        "Vean la [documentación oficial](https://wiki.python.org/moin/Generators) si les interesa."
      ]
    },
    {
      "cell_type": "markdown",
      "metadata": {
        "id": "gC9j4BEFx9Ms"
      },
      "source": [
        "---\n",
        "# Problema de ejemplo"
      ]
    },
    {
      "cell_type": "code",
      "execution_count": null,
      "metadata": {
        "id": "pRVn_qMsxHaR"
      },
      "outputs": [],
      "source": [
        "def elementos_hasta_n(n: int) -> list[int]:\n",
        "  lista = []\n",
        "\n",
        "  i = 1\n",
        "  while i <= n:\n",
        "    lista.append(i)\n",
        "    i += 1\n",
        "\n",
        "  return lista"
      ]
    },
    {
      "cell_type": "code",
      "execution_count": null,
      "metadata": {
        "id": "AtItrjYeyqWQ"
      },
      "outputs": [],
      "source": [
        "resultado = elementos_hasta_n(100_000_000) # Comprobar que esto tarda mucho"
      ]
    },
    {
      "cell_type": "markdown",
      "metadata": {
        "id": "68eFcEmuzRLR"
      },
      "source": [
        "---\n",
        "# Haciendo el ajuste"
      ]
    },
    {
      "cell_type": "code",
      "execution_count": null,
      "metadata": {
        "id": "0i9_HOmLzUDm"
      },
      "outputs": [],
      "source": [
        "def elementos_hasta_n_perezosamente(n: int):\n",
        "  i = 1\n",
        "  while i <= n:\n",
        "    yield i # Yield es como un return que después sigue donde se quedó\n",
        "    i += 1"
      ]
    },
    {
      "cell_type": "code",
      "execution_count": null,
      "metadata": {
        "id": "dbNOOEI1zk56"
      },
      "outputs": [],
      "source": [
        "resultado = elementos_hasta_n_perezosamente(100_000_000) # Comprobar que esto tarda poco, analizar el tipo de lo que retorna"
      ]
    },
    {
      "cell_type": "markdown",
      "metadata": {
        "id": "vHcCXjFHz1LE"
      },
      "source": [
        "---\n",
        "# Midiendo tiempos"
      ]
    },
    {
      "cell_type": "code",
      "execution_count": null,
      "metadata": {
        "id": "bYZTWXfHz4RN"
      },
      "outputs": [],
      "source": [
        "def consumir(iterable, cantidad: int) -> None:\n",
        "  i = 0\n",
        "  for _ in iterable: # Consumo el generador\n",
        "    if i >= cantidad: # Decido parar\n",
        "      break\n",
        "    i += 1"
      ]
    },
    {
      "cell_type": "code",
      "execution_count": null,
      "metadata": {
        "id": "oIk6Upy80AaV"
      },
      "outputs": [],
      "source": [
        "consumir(elementos_hasta_n(100_000_000), 100) # Demora mucho"
      ]
    },
    {
      "cell_type": "code",
      "execution_count": null,
      "metadata": {
        "id": "25EDY8mz0DXG"
      },
      "outputs": [],
      "source": [
        "consumir(elementos_hasta_n_perezosamente(100_000_000), 100) # Demora poco"
      ]
    },
    {
      "cell_type": "markdown",
      "metadata": {
        "id": "Y7eVmur502Tk"
      },
      "source": [
        "---\n",
        "# Otro uso: generación de secuencias complejas\n",
        "###### (¡y posiblemente infinitas!)"
      ]
    },
    {
      "cell_type": "code",
      "execution_count": null,
      "metadata": {
        "id": "1rWuQ3Ij1MjQ"
      },
      "outputs": [],
      "source": [
        "def fibonacci():\n",
        "  f0 = 0\n",
        "  f1 = 1\n",
        "  while True:\n",
        "    yield f0\n",
        "    fnext = f1 + f0\n",
        "    f0, f1 = f1, fnext"
      ]
    },
    {
      "cell_type": "code",
      "execution_count": null,
      "metadata": {
        "id": "T1uEygC_1yWO"
      },
      "outputs": [],
      "source": [
        "fibonacci() # Funciona"
      ]
    },
    {
      "cell_type": "code",
      "execution_count": null,
      "metadata": {
        "id": "O_pJfpX-161A"
      },
      "outputs": [],
      "source": [
        "[f for f in fibonacci() if f < 100] # Infinito"
      ]
    },
    {
      "cell_type": "code",
      "execution_count": null,
      "metadata": {
        "id": "GieKgTDj2MKf"
      },
      "outputs": [],
      "source": [
        "lista = []\n",
        "for f in fibonacci():\n",
        "  if f >= 100:\n",
        "    break\n",
        "  lista.append(f)\n",
        "lista # Funciona"
      ]
    },
    {
      "cell_type": "code",
      "execution_count": null,
      "metadata": {
        "id": "VqkV5-Cj2iRp"
      },
      "outputs": [],
      "source": [
        "def rand_hasta_que_termine_en(n: int):\n",
        "  from random import randrange\n",
        "\n",
        "  f = randrange(0, 9)\n",
        "  while f != n:\n",
        "    yield f\n",
        "    f = randrange(0, 9)"
      ]
    },
    {
      "cell_type": "code",
      "execution_count": null,
      "metadata": {
        "id": "ophgl9sJ3WSt"
      },
      "outputs": [],
      "source": [
        "list(rand_hasta_que_termine_en(0)) # Probar varias veces"
      ]
    },
    {
      "cell_type": "code",
      "execution_count": null,
      "metadata": {
        "id": "sLu53i0KaZSP"
      },
      "outputs": [],
      "source": [
        "from itertools import product\n",
        "\n",
        "A = [1, 2, 3]\n",
        "\n",
        "def tuplasDeA(k: int):\n",
        "  yield from product(A, repeat=k) # Sintaxis: yield from <iterable>\n",
        "\n",
        "list(tuplasDeA(3))"
      ]
    },
    {
      "cell_type": "markdown",
      "metadata": {
        "id": "Cf-PKMZp3jdr"
      },
      "source": [
        "---\n",
        "# Ejercicios\n",
        "\n",
        "1. Implementar las siguientes funciones de la librería de Python como generadores: `range`, `enumerate`, `zip`\n",
        "\n",
        "2. Implementar un generador de todas las coordenadas `(x, y)` de un plano de tamaño `N x M`, dimensiones pasadas como parámetros"
      ]
    },
    {
      "cell_type": "markdown",
      "metadata": {
        "id": "qX84mdhW2X8q"
      },
      "source": [
        "# Búsqueda Exhaustiva"
      ]
    },
    {
      "cell_type": "markdown",
      "metadata": {
        "id": "i-k9mQ0PyB2Z"
      },
      "source": [
        "Para resolver esta práctica, considere la estructura de solución enseñada en la materia, y el paquete `itertools`, que puede serle útil. Recordar que la estructura no siempre resolverá el problema tal cual está presentada."
      ]
    },
    {
      "cell_type": "code",
      "execution_count": null,
      "metadata": {
        "id": "f8RAH2xiyBfN"
      },
      "outputs": [],
      "source": [
        "import itertools\n",
        "\n",
        "def es_solucion(solucion: \"Solución\") -> bool:\n",
        "  pass\n",
        "\n",
        "def candidatos() -> \"Generador(Solución)\":\n",
        "  pass\n",
        "\n",
        "def resolver(problema: \"Problema\") -> \"Solución\":\n",
        "  pass\n",
        "\n",
        "# resolver(problema)"
      ]
    },
    {
      "cell_type": "markdown",
      "metadata": {
        "id": "DE49vwGLUvLr"
      },
      "source": [
        "**Ejercicio 1**: Dado un número entero compuesto, aplicar un algoritmo de busqueda exhaustiva para dar con uno de sus divisores no triviales."
      ]
    },
    {
      "cell_type": "markdown",
      "metadata": {
        "id": "zBtTyA6b3-7o"
      },
      "source": [
        "**Ejercicio 2**: Escribir una función que, dados cuatro números, devuelva el mayor producto\n",
        "de dos de ellos. Por ejemplo, si recibe los números 1, 5, -2, -4 debe devolver 8, que es el producto\n",
        "más grande que se puede obtener entre ellos (8 = −2 × −4)."
      ]
    },
    {
      "cell_type": "markdown",
      "metadata": {
        "id": "OiqDgyg39tbZ"
      },
      "source": [
        "**Ejercicio 3**: Encuentre todas las soluciones naturales de la ecuación $a² + b² = c²$, donde $1\\leq a, b, c \\leq n$.\n",
        "\n",
        "_Ayuda: puede utilizar_ `itertools.product`"
      ]
    },
    {
      "cell_type": "markdown",
      "metadata": {
        "id": "G5u4FQJVTFdz"
      },
      "source": [
        "**Ejercicio 4**: Dada una lista de $n$ números y un número mágico $m$, determinar si existen en la lista 3 números cuya suma sea el número mágico $m$. Se pueden repetir números.\n",
        "\n",
        "_Ayuda: puede utilizar_ `itertools.product`"
      ]
    },
    {
      "cell_type": "markdown",
      "metadata": {
        "id": "YPW238Hs7o6B"
      },
      "source": [
        "**Ejercicio 5**: Dada una lista de $n$ números y un número mágico $m$, determinar si existen en la lista $k$ números cuya suma sea el número mágico $m$. Se pueden repetir números.\n",
        "\n",
        "_Ayuda: puede utilizar_ `itertools.product`"
      ]
    },
    {
      "cell_type": "markdown",
      "metadata": {
        "id": "2XYVIdPC1CLv"
      },
      "source": [
        "**Ejercicio 6**: Suma máxima de subarray\n",
        "\n",
        "Dada una lista de $n$ números enteros, encontrar la sublista contigua de números cuya suma sea máxima.\n",
        "\n",
        "Ejemplo: para `[1, -5, 20, -6, 10]` la respuesta es `[20, -6, 10]`."
      ]
    },
    {
      "cell_type": "markdown",
      "metadata": {
        "id": "RtJ0AmLq4tZR"
      },
      "source": [
        "**Ejercicio 7**: Ordenamiento\n",
        "\n",
        "Ordene una lista usando búsqueda exhaustiva, para esto proponga todas las permutaciones de una lista y busque aquella que esté ordenada.\n",
        "\n",
        "_Ayuda: utilice_ `itertools.permutations`"
      ]
    },
    {
      "cell_type": "markdown",
      "metadata": {
        "id": "2njPPbBw8Zx-"
      },
      "source": [
        "**Ejercicio 8**: El problema del agente viajero\n",
        "\n",
        "Dada una lista de $n$ ciudades y las distancias entre cada par de ellas,\n",
        "encontrar el recorrido más corto posible que visita cada ciudad\n",
        "exactamente una vez y regresa a la ciudad origen.\n",
        "\n",
        "Por ejemplo, dadas las ciudad a, b, c y d con distancias:\n",
        "\n",
        "a - b: 2\n",
        "\n",
        "a - c: 5\n",
        "\n",
        "a - d: 7\n",
        "\n",
        "b - c: 8\n",
        "\n",
        "b - d: 3\n",
        "\n",
        "c - d: 1\n",
        "\n",
        "El camino optimo es a -> b -> d -> c -> a\n",
        "\n",
        "_Ayuda_: Utilice `networkx` y la función `simple_cycles`."
      ]
    },
    {
      "cell_type": "code",
      "execution_count": 1,
      "metadata": {
        "id": "wvw_Qru-943Y"
      },
      "outputs": [
        {
          "name": "stdout",
          "output_type": "stream",
          "text": [
            "Defaulting to user installation because normal site-packages is not writeable\n",
            "Requirement already satisfied: networkx in /home/roberto/.local/lib/python3.10/site-packages (3.2.1)\n"
          ]
        }
      ],
      "source": [
        "!pip install networkx"
      ]
    },
    {
      "cell_type": "markdown",
      "metadata": {
        "id": "yoPdPd-KBdYI"
      },
      "source": [
        "**Ejercicio 9: El problema de la mochila**\n",
        "\n",
        "Sean $n$ distintos tipos de objetos, de los cuales se tienen $q_i$ unidades disponibles para cada tipo ($1 ≤ q_i ≤ ∞$). Cada tipo de objeto $i$ tiene un\n",
        "beneficio asociado $v_i$ y un peso (o volumen) $w_i$ ($vi\n",
        ", wi > 0$).\n",
        "\n",
        "Por otro lado se tiene una mochila, donde se pueden introducir los\n",
        "objetos, que soporta un peso máximo (o volumen máximo) $W$.\n",
        "El problema consiste en meter en la mochila objetos de tal forma que\n",
        "se maximice el valor de los objetos que contiene y siempre que no se\n",
        "supere el peso máximo que puede soportar la misma.\n",
        "\n",
        "Por ejemplo, si la capacidad de la mochila es $W=5 kg$ y los candidatoss objetos:\n",
        "\n",
        "| Objeto ($i$) | Cantidad ($q_i$)| Valor ($v_i)$ | Peso ($w_i$) |\n",
        "|--------------|-----------------|---------------|--------------|\n",
        "| objeto 1     |   1             | 10usd         | 1 kg         |\n",
        "| objeto 2     |   2             | 20usd         | 3 kg         |\n",
        "| objeto 3     |   1             | 15usd         | 2 kg         |\n",
        "| objeto 4     |   3             | 20usd         | 4 kg         |\n",
        "\n",
        "Conviene llevar una unidad del objeto 2 y una unidad del objeto 3.\n"
      ]
    },
    {
      "cell_type": "markdown",
      "metadata": {
        "id": "yZhlNVB22dag"
      },
      "source": [
        "# Divide & Conquer"
      ]
    },
    {
      "cell_type": "markdown",
      "metadata": {
        "id": "iI58WR_F2nvO"
      },
      "source": [
        "Para resolver esta práctica, considere la estructura de solución enseñada en la materia. Recordar que la estructura no siempre resolverá el problema tal cuál está presentada."
      ]
    },
    {
      "cell_type": "code",
      "execution_count": null,
      "metadata": {
        "id": "HKG-LMqd2nvP"
      },
      "outputs": [],
      "source": [
        "def es_caso_base(problema: \"Problema\") -> bool:\n",
        "  pass\n",
        "\n",
        "def resolver_caso_base(problema: \"Problema\") -> \"Solución\":\n",
        "  pass\n",
        "\n",
        "def dividir(problema: \"Problema\") -> \"(Problema, Problema)\":\n",
        "  pass\n",
        "\n",
        "def combinar(s1: \"Solución\", s2: \"Solución\") -> \"Solución\":\n",
        "  pass\n",
        "\n",
        "def resolver(problema: \"Problema\") -> \"Solución\":\n",
        "  pass"
      ]
    },
    {
      "cell_type": "markdown",
      "metadata": {
        "id": "rG_h_vvsYwQd"
      },
      "source": [
        "**Ejercicio 1** Implemente un algoritmo Divide y Vencerás que calcule la suma de los numeros en una lista"
      ]
    },
    {
      "cell_type": "code",
      "execution_count": 2,
      "metadata": {},
      "outputs": [
        {
          "name": "stdout",
          "output_type": "stream",
          "text": [
            "6\n"
          ]
        }
      ],
      "source": [
        "def es_caso_base(problema: \"Problema\") -> bool:\n",
        "  return len(problema) <= 1\n",
        "\n",
        "def resolver_caso_base(problema: \"Problema\") -> \"Solución\":\n",
        "  if len(problema) == 0:\n",
        "    return 0\n",
        "  else:\n",
        "    return problema[0]\n",
        "\n",
        "def dividir(problema: \"Problema\") -> \"(Problema, Problema)\":\n",
        "  largo=len(problema)//2\n",
        "  parte1=problema[:largo]\n",
        "  parte2=problema[largo:]\n",
        "\n",
        "  return parte1,parte2\n",
        "\n",
        "def combinar(s1: \"Solución\", s2: \"Solución\") -> \"Solución\":\n",
        "  return s1 + s2\n",
        "\n",
        "def resolver(problema: \"Problema\") -> \"Solución\":\n",
        "  if es_caso_base(problema):\n",
        "    return resolver_caso_base(problema)\n",
        "\n",
        "  parte1,parte2 = dividir(problema)\n",
        "  s1,s2=resolver(parte1), resolver(parte2)\n",
        "  return(combinar(s1,s2))\n",
        "\n",
        "puto=resolver([1,2,3])\n",
        "print(puto)"
      ]
    },
    {
      "cell_type": "markdown",
      "metadata": {
        "id": "LzWEZtqlaThI"
      },
      "source": [
        "**Ejercicio 2** Búsqueda binaria\n",
        "\n",
        "Implemente un algoritmo Divide y Vencerás que encuentre un número en una lista ordenada. ¿Es necesario resolver todos los subproblemas?"
      ]
    },
    {
      "cell_type": "code",
      "execution_count": 2,
      "metadata": {},
      "outputs": [
        {
          "name": "stdout",
          "output_type": "stream",
          "text": [
            "esta en la lista\n"
          ]
        }
      ],
      "source": [
        "def es_caso_base(problema: \"Problema\") -> bool:\n",
        "  return len(problema) <= 1\n",
        "\n",
        "def resolver_caso_base(problema: \"Problema\", numero) -> \"Solución\":\n",
        "  if len(problema) == 1:\n",
        "    return problema[0] == numero\n",
        "  else:\n",
        "    return False\n",
        "\n",
        "def dividir(problema: \"Problema\") -> \"(Problema, Problema)\":\n",
        "  mitad = len(problema) // 2\n",
        "  return problema[:mitad], problema[mitad:]\n",
        "\n",
        "def combinar(s1: \"Solución\", s2: \"Solución\") -> \"Solución\":\n",
        "  return s1 or s2\n",
        "\n",
        "def resolver(problema: \"Problema\", numero) -> \"Solución\":\n",
        "  if es_caso_base(problema):\n",
        "    return resolver_caso_base(problema, numero)\n",
        "\n",
        "  m1,m2=dividir(problema)\n",
        "  s1,s2=resolver(m1, numero), resolver(m2, numero)\n",
        "  return combinar(s1,s2)\n",
        "asd=[1,2,3,4,5,6,7,8,9,0,123,123235234554,123123,23]\n",
        "numeroasd=2\n",
        "if resolver(asd,numeroasd):\n",
        "  print('esta en la lista')\n",
        "else:\n",
        "  print('no esta')"
      ]
    },
    {
      "cell_type": "markdown",
      "metadata": {
        "id": "KmNNPhdIbhcr"
      },
      "source": [
        "**Ejercicio 3** Dada una lista de números, proponga algoritmos Divide & Conquer para:\n",
        "\n",
        "a. Encontrar el menor elemento de la lista\n",
        "\n",
        "b. Encontrar el mayor elemento de la lista\n",
        "\n",
        "c. Encontrar el menor y el mayor elemento de la lista"
      ]
    },
    {
      "cell_type": "code",
      "execution_count": 21,
      "metadata": {},
      "outputs": [
        {
          "name": "stdout",
          "output_type": "stream",
          "text": [
            "el minimo es -30\n"
          ]
        }
      ],
      "source": [
        "# Menor elemento de la lista\n",
        "def es_caso_base(problema: \"Problema\") -> bool:\n",
        "    return len(problema) <=1\n",
        "\n",
        "def resolver_caso_base(problema: \"Problema\") -> \"Solución\":\n",
        "      return problema[0]\n",
        "\n",
        "def dividir(problema: \"Problema\") -> \"(Problema, Problema)\":\n",
        "  mitad=len(problema)//2\n",
        "  return problema[:mitad],problema[mitad:]\n",
        "\n",
        "def combinar(s1: \"Solución\", s2: \"Solución\") -> \"Solución\":\n",
        "  return min(s1,s2)\n",
        "\n",
        "def resolver(problema: \"Problema\") -> \"Solución\":\n",
        "  if es_caso_base(problema):\n",
        "      return resolver_caso_base(problema)\n",
        "\n",
        "  mitad1,mitad2=dividir(problema)\n",
        "  s1,s2 = resolver(mitad1), resolver(mitad2)\n",
        "  return combinar(s1,s2)\n",
        "\n",
        "hola=resolver([-20,2,3,-30])\n",
        "print(f'el minimo es {hola}')"
      ]
    },
    {
      "cell_type": "code",
      "execution_count": 24,
      "metadata": {},
      "outputs": [
        {
          "name": "stdout",
          "output_type": "stream",
          "text": [
            "1000\n"
          ]
        }
      ],
      "source": [
        "def es_caso_base(problema):\n",
        "    return len(problema) <= 1\n",
        "\n",
        "def resolver_caso_base(problema):\n",
        "    return problema[0]\n",
        "\n",
        "def dividir(problema):\n",
        "    mitad=len(problema)//2\n",
        "    return problema[:mitad], problema[mitad:]\n",
        "\n",
        "def combinar(s1,s2):\n",
        "    return max(s1,s2)\n",
        "\n",
        "def resolver(problema):\n",
        "    if es_caso_base(problema):\n",
        "        return resolver_caso_base(problema)\n",
        "\n",
        "    m1,m2=dividir(problema)\n",
        "    s1,s2=resolver(m1),resolver(m2)\n",
        "    return(combinar(s1,s2))\n",
        "\n",
        "chau = resolver([1,2,3,1000,20])\n",
        "print(chau)"
      ]
    },
    {
      "cell_type": "code",
      "execution_count": 29,
      "metadata": {},
      "outputs": [
        {
          "name": "stdout",
          "output_type": "stream",
          "text": [
            "(1, 1000)\n"
          ]
        }
      ],
      "source": [
        "def caso_base(problema):\n",
        "    return len(problema)<=1\n",
        "\n",
        "def resolver_caso_base(problema):\n",
        "    return problema[0], problema[0]\n",
        "\n",
        "def dividir(problema):\n",
        "    mitad=len(problema)//2\n",
        "    return problema[:mitad], problema[mitad:]\n",
        "\n",
        "def combinar(s1,s2):\n",
        "    min_s1, max_s1 = s1\n",
        "    min_s2, max_s2 = s2\n",
        "    return min(min_s1,min_s2), max(max_s1,max_s2)\n",
        "\n",
        "def resolver(problema):\n",
        "    if caso_base(problema):\n",
        "        return resolver_caso_base(problema)\n",
        "    m1,m2=dividir(problema)\n",
        "    s1,s2=resolver(m1),resolver(m2)\n",
        "    return(combinar(s1,s2))\n",
        "\n",
        "chau = resolver([1,2,3,1000,20])\n",
        "print(chau)"
      ]
    },
    {
      "cell_type": "markdown",
      "metadata": {
        "id": "gkfJS7c9dQPf"
      },
      "source": [
        "**Ejercicio 4** Escriba un algoritmo Divide & Conquer para calcular la potencia $b^n$ calculando potencias menores en cada paso. Puede suponer que $n$ es un numero positivo"
      ]
    },
    {
      "cell_type": "code",
      "execution_count": 50,
      "metadata": {},
      "outputs": [
        {
          "name": "stdout",
          "output_type": "stream",
          "text": [
            "4\n"
          ]
        }
      ],
      "source": [
        "def es_caso_base(exponente):\n",
        "    return exponente == 0\n",
        "def resolver_caso_base(exponente):\n",
        "    if exponente == 0:\n",
        "        return 1\n",
        "def dividir(b,n):\n",
        "    if es_caso_base(n):\n",
        "        return resolver_caso_base(n)\n",
        "    elif n % 2 == 0:\n",
        "        subproblema=dividir(b,n//2)\n",
        "        return subproblema * subproblema\n",
        "    else:\n",
        "        subproblema=dividir(b,(n-1)//2)\n",
        "        return(b*subproblema*subproblema)\n",
        "\n",
        "def resolver(b,n):\n",
        "    return(dividir(b,n))\n",
        "\n",
        "asd=resolver(4,1)\n",
        "print(asd)"
      ]
    },
    {
      "cell_type": "markdown",
      "metadata": {
        "id": "n1dkqUSoexoa"
      },
      "source": [
        "**Ejercicio 5** De un algoritmo Divide & Conquer para encontrar el número más grande de una lista, y el segundo mas grande. Puede suponer que la lista siempre tiene al menos dos numeros y que los numeros son todos distintos entre si."
      ]
    },
    {
      "cell_type": "markdown",
      "metadata": {
        "id": "IZo4JZJ25gUI"
      },
      "source": [
        "**Ejercicio 6**: Ordenamiento\n",
        "\n",
        "Ordene una lista usando divide y vencerás, para esto preste atención cómo combina dos listas ordenadas para producir una nueva lista ordenada. No utilice ningún método de ordenamiento _builtin_"
      ]
    },
    {
      "cell_type": "markdown",
      "metadata": {
        "id": "SHnfidWe8Ykb"
      },
      "source": [
        "**Ejercicio 7**: Suma máxima de subarray\n",
        "\n",
        "Repita el ejercicio de la sección anterior. Para poder hacerlo, necesitará más información que solamente la solución final. La llamada recursiva debe devolver, si representamos un subarray como sus dos índices $[i:j]$:\n",
        "- La suma máxima $[i:j]$\n",
        "- La suma total $[0:n]$\n",
        "- La suma máxima por izquierda $[0:j']$\n",
        "- La suma máxima por derecha $[i':n]$\n",
        "\n",
        "Con estos datos hay suficiente información en las llamadas recursivas para resolver el problema con recursión."
      ]
    },
    {
      "cell_type": "markdown",
      "metadata": {
        "id": "Mp75quWIanOS"
      },
      "source": [
        "# Greedy"
      ]
    },
    {
      "cell_type": "markdown",
      "metadata": {
        "id": "WKOA5qEvprm1"
      },
      "source": [
        "Para resolver esta práctica, considere la siguiente estructura de solucion. Recordar que la misma no siempre resolverá el problema tal cuál está presentada."
      ]
    },
    {
      "cell_type": "code",
      "execution_count": null,
      "metadata": {
        "id": "g6uYFRSpoygT"
      },
      "outputs": [],
      "source": [
        "def es_solucion(eleccion_actual: \"Solucion\") -> bool:\n",
        "  pass\n",
        "\n",
        "def elegir_candidato(problema: \"Problema\") -> \"Elemento\":\n",
        "  pass\n",
        "\n",
        "def es_factible(eleccion: \"Solucion\") -> bool:\n",
        "  pass\n",
        "\n",
        "def resolver(problema: \"Problema\") -> \"Solucion\":\n",
        "  pass"
      ]
    },
    {
      "cell_type": "markdown",
      "metadata": {
        "id": "wyUrQ_fMDUiC"
      },
      "source": [
        "**Ejercicio 1**: Dada una lista de pares `(letra, numero)` elegir aquellos pares con la letra `A` hasta que la suma de los numeros pase un umbral `S`, usando la receta de Greedy."
      ]
    },
    {
      "cell_type": "code",
      "execution_count": 16,
      "metadata": {},
      "outputs": [
        {
          "name": "stdout",
          "output_type": "stream",
          "text": [
            "[['a', 2], ['a', 2]]\n"
          ]
        }
      ],
      "source": [
        "def es_solucion(bolsa: \"Problema\", suma, S) -> bool:\n",
        "    return len(bolsa) == 0 or suma > S\n",
        "\n",
        "def elegir_candidato(bolsa: \"Problema\") -> \"Elemento\":\n",
        "    return bolsa[0]\n",
        "\n",
        "def es_factible(eleccion: \"Elemento\") -> bool:\n",
        "    return eleccion[0] == 'a'\n",
        "\n",
        "def resolver(problema: \"Problema\", S) -> \"Solucion\":\n",
        "    solucion = []\n",
        "    suma = 0\n",
        "    while not es_solucion(problema, suma, S):\n",
        "        x = elegir_candidato(problema)\n",
        "        problema.remove(x)\n",
        "        if es_factible(x):\n",
        "            solucion.append(x)\n",
        "            suma += x[1]\n",
        "    return solucion\n",
        "\n",
        "resultado = resolver([['a',2],['b',3],['a',2]], 4)\n",
        "print(resultado)"
      ]
    },
    {
      "cell_type": "markdown",
      "metadata": {
        "id": "1wHKWh4JDFlH"
      },
      "source": [
        "**Ejercicio 2**: Ordenar\n",
        "\n",
        "Ordenar una lista de números usando Greedy."
      ]
    },
    {
      "cell_type": "markdown",
      "metadata": {
        "id": "E3KZzsxYiqTz"
      },
      "source": [
        "**Ejercicio 3**: Tenemos una lista de tareas, cada tarea se simboliza con el tiempo que toma completarla, pero tenemos un tiempo límite $T$ que probablemente no nos alcance para hacerlas todas.\n",
        "\n",
        "¿Cuál es la mayor cantidad de tareas que puedo completar en $T$ tiempo o menos?\n",
        "\n",
        "Ejemplo:\n",
        "```python\n",
        "tasks = [5, 9, 2, 6, 1]\n",
        "T = 10\n",
        "# Respuesta: 3\n",
        "```"
      ]
    },
    {
      "cell_type": "markdown",
      "metadata": {
        "id": "DppkYaoADS82"
      },
      "source": [
        "**Ejercicio 4**: Problema del Cambio. Dado un número entero $C$ que representa un vuelto que hay que dar, encuentre una combinación de monedas de 1, 5, 10 y 20 centavos que sumen $C$ y que sean la menor cantidad de monedas posible."
      ]
    },
    {
      "cell_type": "markdown",
      "metadata": {
        "id": "9ueoV2NyEDIO"
      },
      "source": [
        "**Ejercicio 5**: Sean $n$ actividades que podríamos hacer. Cada actividad tiene un tiempo de inicio y un tiempo de fin, $0 ≤ si < fi < ∞$. Calcule la cantidad máxima de actividades que podemos realizar, si no se pueden hacer en simultáneo."
      ]
    },
    {
      "cell_type": "markdown",
      "metadata": {
        "id": "HuUuShJIFSsc"
      },
      "source": [
        "**Ejercicio 6**: Algoritmo de Kruskall. Al igual que Prim, encuentra el árbol de expansión mínimo, pero es más sencillo a la hora de programarlo. Dado el conjunto de $E$ aristas ponderadas del grafo de $N$ vértices, elige las primeras $N - 1$ aristas de menor costo que no formen un ciclo.\n",
        "\n",
        "Ejemplo:\n",
        "\n",
        "$E = [(A, B, 1), (A, C, 2), (A, D, 3), (A, E, 4), (B, C, 5), (C, D, 6), (D, E, 7), (E, B, 8)]$\n",
        "\n",
        "Identificamos que hay 5 vertices unicos en esas aristas (los vertices estan implicitos y que es conexo tambien) y la respuesta son las primeras 4 aristas"
      ]
    },
    {
      "cell_type": "markdown",
      "metadata": {
        "id": "OqF-LaU2eN0J"
      },
      "source": [
        "**Ejercicio 7**: La codificación de Huffman es un algoritmo de compresión de datos. A los elementos más frecuentes se les asigna cadenas de bits más cortas.\n",
        "\n",
        "Se emplea un árbol para la codificación, donde los nodos internos no tienen datos, la rama izquierda representa leer un 0, la rama derecha representa leer un 1, y al llegar a la hoja interpretamos el dato que allí se encuentra.\n",
        "\n",
        "Ejemplo:\n",
        "\n",
        "Dado el siguiente árbol de codificación de Huffman\n",
        "```\n",
        "   .\n",
        " 0/ \\1\n",
        " /   \\\n",
        "a  0/ \\1\n",
        "   b   c\n",
        "```\n",
        "y la cadena de bits\n",
        "```\n",
        "01010110\n",
        "```\n",
        "interpretaríamos\n",
        "```\n",
        "0 -> a\n",
        "10 -> b\n",
        "10 -> b\n",
        "11 -> c\n",
        "0 -> a\n",
        "```\n",
        "Está garantizado que, si la cadena de bits salió de ese árbol, entonces la interpretación siempre se puede realizar sin errores.\n",
        "\n",
        "El algoritmo para construir el árbol toma siempre los dos nodos con menor frecuencia y los une en un nodo interno, cuyo valor es la suma de las frecuencias, el menor de los dos hijos va a la rama del 0, y el mayor a la del 1, e itera este proceso Greedy hasta que nos quede un solo nodo, la raíz del árbol entero.\n",
        "\n",
        "Implementar el algoritmo que transforma un string en un Árbol de Huffman para crear el árbol. Como extra, además escribir el algoritmo de interpretación de secuencias de 1s y 0s. El algoritmo toma los 2 nodos con menor frecuencia y crea un nuevo nodo interno."
      ]
    }
  ],
  "metadata": {
    "colab": {
      "provenance": []
    },
    "kernelspec": {
      "display_name": "Python 3",
      "name": "python3"
    },
    "language_info": {
      "codemirror_mode": {
        "name": "ipython",
        "version": 3
      },
      "file_extension": ".py",
      "mimetype": "text/x-python",
      "name": "python",
      "nbconvert_exporter": "python",
      "pygments_lexer": "ipython3",
      "version": "3.10.12"
    }
  },
  "nbformat": 4,
  "nbformat_minor": 0
}
