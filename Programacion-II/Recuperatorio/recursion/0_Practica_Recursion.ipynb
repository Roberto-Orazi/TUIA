{
  "cells": [
    {
      "cell_type": "markdown",
      "metadata": {
        "id": "6rxdohV00iKL"
      },
      "source": [
        "# Practica Recursion"
      ]
    },
    {
      "cell_type": "markdown",
      "metadata": {
        "id": "bqQ5hKbTE5xz"
      },
      "source": [
        "**Ejercicio 1**\n",
        "\n",
        "1. Escribir una función recursiva `repite_hola` que reciba como parámetro un número entero $n$ y escriba por pantalla el mensaje \"Hola\" $n$ veces. Invocarla con distintos valores de $n$.\n",
        "\n",
        "2. Escribir otra función `repite_hola` que reciba como parámetro un número entero $n$ y devuelva la cadena formada por $n$ concatenaciones de \"Hola\". Invocarla con distintos valores de $n$"
      ]
    },
    {
      "cell_type": "code",
      "execution_count": 8,
      "metadata": {},
      "outputs": [
        {
          "name": "stdout",
          "output_type": "stream",
          "text": [
            "hola\n",
            "hola\n",
            "hola\n"
          ]
        },
        {
          "data": {
            "text/plain": [
              "'hola hola '"
            ]
          },
          "execution_count": 8,
          "metadata": {},
          "output_type": "execute_result"
        }
      ],
      "source": [
        "# 1\n",
        "def repite_hola(n: int) -> str:\n",
        "    if n == 0:\n",
        "        return n\n",
        "    else:\n",
        "        print('hola' )\n",
        "    return(repite_hola(n-1))\n",
        "\n",
        "repite_hola(3)\n",
        "\n",
        "# 2\n",
        "def concatenar_hola(n: int) -> str:\n",
        "    if n == 0:\n",
        "        return ''\n",
        "    return('hola '+concatenar_hola(n-1))\n",
        "\n",
        "concatenar_hola(2)"
      ]
    },
    {
      "cell_type": "markdown",
      "metadata": {
        "id": "Nk9iHhz1ic64"
      },
      "source": [
        "**Ejercicio 2**\n",
        "\n",
        "1. Piense cuál sería el resultado de la expresión `misterio(5)` y luego compruebe su hipótesis ejecutándola.\n",
        "\n",
        "2. Explique con sus palabras qué hace `misterio(a)` para cualquier `a`, sea positivo, negativo o 0."
      ]
    },
    {
      "cell_type": "code",
      "execution_count": 14,
      "metadata": {
        "id": "jXGjJWpAioG4"
      },
      "outputs": [
        {
          "name": "stdout",
          "output_type": "stream",
          "text": [
            "5\n",
            "4\n",
            "4\n",
            "3\n",
            "3\n",
            "2\n",
            "2\n",
            "1\n",
            "1\n",
            "0\n"
          ]
        },
        {
          "data": {
            "text/plain": [
              "5"
            ]
          },
          "execution_count": 14,
          "metadata": {},
          "output_type": "execute_result"
        }
      ],
      "source": [
        "def misterio(a: int) -> int:\n",
        "  if a == 0:\n",
        "    return a\n",
        "  print(a)\n",
        "  print(a-1)\n",
        "\n",
        "  return 1 + misterio(a - 1)\n",
        "misterio(5)\n",
        "'''\n",
        "  Va a devolver siempre el numero ingresado\n",
        "  porque no retorna nada del a solo retorna la suma de los 1\n",
        "\n",
        "1. Cuando es negativo se hace infinito\n",
        "2. Cuando es 0 retorna 0\n",
        "3. Cuando es positivo devuelve el numero positivo\n",
        "\n",
        "'''"
      ]
    },
    {
      "cell_type": "markdown",
      "metadata": {
        "id": "v6UoSVfAFaZG"
      },
      "source": [
        "**Ejercicio 3**\n",
        "\n",
        "1. Escribir una función `repite_saludo` que reciba como parámetro un número entero $n$ y una cadena saludo y escriba por pantalla el valor de saludo $n$ veces. Invocarla con distintos valores de $n$ y de saludo.\n",
        "\n",
        "2. Escribir otra función `repite_saludo` que reciba como parámetro un número entero $n$ y una cadena saludo devuelva el valor de $n$ concatenaciones de saludo. Invocarla con distintos valores de $n$ y de saludo."
      ]
    },
    {
      "cell_type": "code",
      "execution_count": 24,
      "metadata": {},
      "outputs": [
        {
          "name": "stdout",
          "output_type": "stream",
          "text": [
            "cadenita loca\n",
            "cadenita loca\n"
          ]
        },
        {
          "data": {
            "text/plain": [
              "'mati puto mati puto mati puto '"
            ]
          },
          "execution_count": 24,
          "metadata": {},
          "output_type": "execute_result"
        }
      ],
      "source": [
        "# 1\n",
        "def repite_saludo(n:int, cadena: str)->str:\n",
        "    if n == 0:\n",
        "        return ''\n",
        "    print(cadena)\n",
        "    return(repite_saludo(n-1, cadena))\n",
        "\n",
        "repite_saludo(2,'cadenita loca')\n",
        "# 2\n",
        "def concatenar_saludo(n:int, cadena:str):\n",
        "    if n==0:\n",
        "        return ''\n",
        "    return(cadena + ' ' + concatenar_saludo(n-1,cadena))\n",
        "\n",
        "concatenar_saludo(3,'mati puto')\n"
      ]
    },
    {
      "cell_type": "markdown",
      "metadata": {
        "id": "MgICSXQXEZz5"
      },
      "source": [
        "**Ejercicio 4**\n",
        "\n",
        "Escriba una funcion recursiva que tome un numero natural n e imprima todos los numeros desde n hasta 1."
      ]
    },
    {
      "cell_type": "code",
      "execution_count": 27,
      "metadata": {},
      "outputs": [
        {
          "name": "stdout",
          "output_type": "stream",
          "text": [
            "3\n",
            "2\n"
          ]
        },
        {
          "data": {
            "text/plain": [
              "1"
            ]
          },
          "execution_count": 27,
          "metadata": {},
          "output_type": "execute_result"
        }
      ],
      "source": [
        "def numero_natural(n:int)->int:\n",
        "    if n == 1:\n",
        "        return 1\n",
        "    print(n)\n",
        "    return(numero_natural(n-1))\n",
        "numero_natural(3)"
      ]
    },
    {
      "cell_type": "markdown",
      "metadata": {
        "id": "Z7TjLxx3jaAM"
      },
      "source": [
        "**Ejercicio 5**\n",
        "\n",
        "Convierta la siguiente función recursiva a una iterativa."
      ]
    },
    {
      "cell_type": "code",
      "execution_count": 38,
      "metadata": {
        "id": "nRIkRomhj-kv"
      },
      "outputs": [
        {
          "name": "stdout",
          "output_type": "stream",
          "text": [
            "21\n",
            "21\n"
          ]
        }
      ],
      "source": [
        "def recursiva(t: int, k: int) -> int:\n",
        "  if t >= 100:\n",
        "    return k\n",
        "  else:\n",
        "    return recursiva(t + k, k + 1)\n",
        "print(recursiva(10,15))\n",
        "\n",
        "def iterativa(t: int, k:int)->int:\n",
        "  while t<100:\n",
        "    t+=k\n",
        "    k+=1\n",
        "  return k\n",
        "print(iterativa(10,15))"
      ]
    },
    {
      "cell_type": "markdown",
      "metadata": {
        "id": "S_zEBM1d4wfm"
      },
      "source": [
        "**Ejercicio 6**\n",
        "\n",
        "Escribir una función recursiva que calcule recursivamente el n-ésimo número triangular (el número 1 + 2 + 3 + ⋯ + n)."
      ]
    },
    {
      "cell_type": "code",
      "execution_count": 41,
      "metadata": {},
      "outputs": [
        {
          "data": {
            "text/plain": [
              "15"
            ]
          },
          "execution_count": 41,
          "metadata": {},
          "output_type": "execute_result"
        }
      ],
      "source": [
        "def calculo_recursivo(n:int)->int:\n",
        "    if n == 0:\n",
        "        return n\n",
        "    return(n + calculo_recursivo(n-1))\n",
        "calculo_recursivo(5)"
      ]
    },
    {
      "cell_type": "markdown",
      "metadata": {
        "id": "NcFbTBst0k9h"
      },
      "source": [
        "**Ejercicio 7**\n",
        "\n",
        "Escribir una función recursiva que reciba un número positivo n y devuelva la cantidad de dígitos que tiene."
      ]
    },
    {
      "cell_type": "code",
      "execution_count": 44,
      "metadata": {},
      "outputs": [
        {
          "data": {
            "text/plain": [
              "3"
            ]
          },
          "execution_count": 44,
          "metadata": {},
          "output_type": "execute_result"
        }
      ],
      "source": [
        "def cantidad_digitos(n:int)->int:\n",
        "    if n < 10:\n",
        "        return 1\n",
        "    return(1+cantidad_digitos(n//10))\n",
        "cantidad_digitos(300)"
      ]
    },
    {
      "cell_type": "markdown",
      "metadata": {
        "id": "GqKV9CUUlPMJ"
      },
      "source": [
        "**Ejercicio 8**\n",
        "\n",
        "Convierta la siguiente función iterativa a una recursiva."
      ]
    },
    {
      "cell_type": "code",
      "execution_count": 63,
      "metadata": {
        "id": "NYXBEtDdmBvl"
      },
      "outputs": [
        {
          "name": "stdout",
          "output_type": "stream",
          "text": [
            "iterativa 6\n",
            "recursiva 6\n"
          ]
        }
      ],
      "source": [
        "def iterativa(l: list[int]) -> int:\n",
        "  c = 1\n",
        "  for i in l:\n",
        "    c = c * i\n",
        "  return c\n",
        "print(f'iterativa {iterativa([1,2,3])}')\n",
        "def recursiva(l:list[int])->int:\n",
        "  if len(l)==0:\n",
        "    return 1\n",
        "  return((l.pop(0))*recursiva(l))\n",
        "\n",
        "print(f'recursiva {recursiva([1,2,3])}')"
      ]
    },
    {
      "cell_type": "markdown",
      "metadata": {
        "id": "LnoHH96w5Boy"
      },
      "source": [
        "**Ejercicio 9** Escribir una funcion recursiva que encuentre el mayor elemento de una lista."
      ]
    },
    {
      "cell_type": "code",
      "execution_count": 118,
      "metadata": {},
      "outputs": [
        {
          "data": {
            "text/plain": [
              "9"
            ]
          },
          "execution_count": 118,
          "metadata": {},
          "output_type": "execute_result"
        }
      ],
      "source": [
        "def mayor_elemento(list: list)->int:\n",
        "    if not list:\n",
        "        return 0\n",
        "    nuevo_valor=list.pop(0)\n",
        "    mayor=mayor_elemento(list)\n",
        "    if nuevo_valor > mayor:\n",
        "        return nuevo_valor\n",
        "    else:\n",
        "        return mayor\n",
        "\n",
        "mayor_elemento([1,2,7,4,5,9])"
      ]
    },
    {
      "cell_type": "markdown",
      "metadata": {
        "id": "7Wvp-pzzmiqT"
      },
      "source": [
        "**Ejercicio 10**\n",
        "\n",
        "Dibuje el árbol de llamadas de `llamadas(3)`, y escriba para cada llamada el valor de su `n`, su resultado, y el orden en que se ejecuta en la máquina."
      ]
    },
    {
      "cell_type": "code",
      "execution_count": 125,
      "metadata": {
        "id": "0JR39xkAmqFM"
      },
      "outputs": [
        {
          "name": "stdout",
          "output_type": "stream",
          "text": [
            "c1 1\n",
            "c2 1\n",
            "c1 3\n",
            "c2 1\n",
            "c1 5\n",
            "c1 1\n",
            "c2 1\n",
            "c2 3\n"
          ]
        },
        {
          "data": {
            "text/plain": [
              "9"
            ]
          },
          "execution_count": 125,
          "metadata": {},
          "output_type": "execute_result"
        }
      ],
      "source": [
        "def llamadas(n: int) -> int:\n",
        "  if n <= 0:\n",
        "    return 1\n",
        "\n",
        "  cantidad1 = llamadas(n - 1)\n",
        "  print(f'c1 {cantidad1}')\n",
        "  cantidad2 = llamadas(n - 2)\n",
        "  print(f'c2 {cantidad2}')\n",
        "  return cantidad1 + cantidad2 + 1\n",
        "llamadas(3)"
      ]
    },
    {
      "cell_type": "markdown",
      "metadata": {
        "id": "iwkC8qNp1MLv"
      },
      "source": [
        "**Ejercicio 11** Escribir una función recursiva que reciba 2 enteros n y b y devuelva True si n es potencia de b.\n",
        "\n",
        "**Ejemplos**:\n",
        "- es_potencia(8, 2) -> True\n",
        "- es_potencia(64, 4) -> True\n",
        "- es_potencia(70, 10) -> False"
      ]
    },
    {
      "cell_type": "code",
      "execution_count": 168,
      "metadata": {},
      "outputs": [
        {
          "name": "stdout",
          "output_type": "stream",
          "text": [
            "True\n",
            "True\n",
            "False\n"
          ]
        }
      ],
      "source": [
        "def es_potencia(n:int,b:int)->bool:\n",
        "    if n==1:\n",
        "        return True\n",
        "    elif n<b:\n",
        "        return False\n",
        "    elif n%b ==0:\n",
        "        return es_potencia(n/b,b)\n",
        "    else:\n",
        "        return False\n",
        "\n",
        "print(es_potencia(8, 2))\n",
        "print(es_potencia(64, 4))\n",
        "print(es_potencia(70, 10))"
      ]
    },
    {
      "cell_type": "markdown",
      "metadata": {
        "id": "6dO9EqZ_qsGJ"
      },
      "source": [
        "# Ejercicios Adicionales"
      ]
    },
    {
      "cell_type": "markdown",
      "metadata": {
        "id": "3Xgvx8UH5oIZ"
      },
      "source": [
        "**Ejercicio 12** Escribir una función recursiva para replicar los elementos de una lista una cantidad n de veces. Por ejemplo:\n",
        "- replicar([1, 3, 3, 7], 2) -> ([1, 1, 3, 3, 3, 3, 7, 7])"
      ]
    },
    {
      "cell_type": "code",
      "execution_count": 18,
      "metadata": {},
      "outputs": [
        {
          "data": {
            "text/plain": [
              "[1, 1, 2, 2, 3, 3, 4, 4]"
            ]
          },
          "execution_count": 18,
          "metadata": {},
          "output_type": "execute_result"
        }
      ],
      "source": [
        "def replicar(lista:list[int], n: int)->list:\n",
        "    if not lista:\n",
        "        return []\n",
        "    numero=lista.pop(0)\n",
        "    replicadora=replicar(lista,n)\n",
        "    lista_replicada=[numero]*n+replicadora\n",
        "    return lista_replicada\n",
        "replicar([1,2,3,4],2)"
      ]
    },
    {
      "cell_type": "markdown",
      "metadata": {
        "id": "9mXgr_gQRWiH"
      },
      "source": [
        "**Ejercicio 13** Escriba una funcion que tome una lista y devuelva esa misma lista en orden inverso. Realice dos versiones:\n",
        "\n",
        "* `reversaR` que resuelva utilizando recursión.\n",
        "* `reversaI` que resuelva utilizando iteración."
      ]
    },
    {
      "cell_type": "code",
      "execution_count": 73,
      "metadata": {},
      "outputs": [
        {
          "name": "stdout",
          "output_type": "stream",
          "text": [
            "Recursiva[3, 2, 1]\n",
            "Iterativa[6, 5, 4]\n"
          ]
        }
      ],
      "source": [
        "def reversaR(lista: list[int])->list:\n",
        "    if not lista:\n",
        "        return []\n",
        "    numero=lista.pop()\n",
        "    lista_nueva=reversaR(lista)\n",
        "    lista_nueva.insert(0,numero)\n",
        "    return lista_nueva\n",
        "print(f'Recursiva{reversaR([1,2,3])}')\n",
        "\n",
        "def reversaI(lista: list[int])->list:\n",
        "    lista_nueva=[]\n",
        "    largo=len(lista)\n",
        "    for i in range(largo - 1, -1, -1):\n",
        "        numero=lista.pop(i)\n",
        "        lista_nueva.append(numero)\n",
        "    return lista_nueva\n",
        "print(f'Iterativa{reversaI([4,5,6])}')\n"
      ]
    },
    {
      "cell_type": "markdown",
      "metadata": {
        "id": "R_MVS9FV2p2_"
      },
      "source": [
        "**Ejercicio 14** Escribir una funcion recursiva que reciba como parámetros dos cadenas a y b, y encuentre la posicion de la primer ocurrencia de b como subcadena de a\n",
        "\n",
        "**Ejemplo**:\n",
        "- posicion_de(\"Un tete a tete con Tete\", \"te\") -> 3\n",
        "- posicion_de(\"Un tete a tete con Tete\", \"Te\") -> 19\n",
        "\n",
        "**Ayuda**\n",
        "- Puede ser de utilidad el método de `str.startswith` que nos dice si una cadena empieza con una subcadena dada. Puede leer mas sobre este método en la [documentacion oficial](https://docs.python.org/3/library/stdtypes.html?highlight=startswith#str.startswith)"
      ]
    },
    {
      "cell_type": "code",
      "execution_count": 44,
      "metadata": {},
      "outputs": [
        {
          "name": "stdout",
          "output_type": "stream",
          "text": [
            "4\n",
            "20\n"
          ]
        }
      ],
      "source": [
        "def posicion_de(a:str,b:str)->int:\n",
        "    if a.startswith(b):\n",
        "        return 1\n",
        "    if len(a)<len(b):\n",
        "        return 0\n",
        "    subcadena=posicion_de(a[1:],b)\n",
        "    if subcadena!=0:\n",
        "        return (subcadena + 1)\n",
        "    else:\n",
        "        return -1\n",
        "\n",
        "print(posicion_de(\"Un tete a tete con Tete\", \"te\"))\n",
        "print(posicion_de(\"Un tete a tete con Tete\", \"Te\"))"
      ]
    },
    {
      "cell_type": "markdown",
      "metadata": {
        "id": "zaR3YsHi7SaA"
      },
      "source": [
        "## Recursión con wrappers\n",
        "\n",
        "Al diseñar funciones recursivas muchas veces puede ser útil implementar una función **wrapper**, por ejemplo para cambiar los valores que hay que tomar, validar parámetros, inicializar datos o manejar excepciones.\n",
        "\n",
        "Se utiliza una función recursiva, llamada funcion auxiliar, como base y luego una funcion no recursiva, llamada wrapper, que utiliza la funcion auxiliar para resolver lo pedido.\n",
        "\n",
        "Por ejemplo, si necesitamos escribir una función recursiva para calcular el promedio, puede no ser evidente como hacerlo:\n",
        "\n",
        "```python\n",
        "def promediar(lista: list[float]) -> float:\n",
        "  if len(lista) == 0:\n",
        "    return ???\n",
        "  promediar(lista[1:]) ???\n",
        "```\n",
        "\n",
        "Para calcular un promedio necesitamos computar tanto una suma como contar la cantidad de elementos. Podemos hacerlo con una función auxiliar\n",
        "\n",
        "```python\n",
        "def _promediar(lista: list[float]) -> int, float:\n",
        "  if len(lista) == 0:\n",
        "    return 0, 0\n",
        "  cant, suma = promediar(lista[1:])\n",
        "  return cant +1, suma + lista[0]\n",
        "\n",
        "def promediar(lista: list[float]) -> float:\n",
        "  cant, suma = _promediar(lista)\n",
        "  return suma / cant\n",
        "```"
      ]
    },
    {
      "cell_type": "markdown",
      "metadata": {
        "id": "--lq2ot56HOe"
      },
      "source": [
        "**Ejercicio 15** Escribir una funcion recursiva que dada una cadena determine si en la misma hay más letras A o letras E. Utilizar una funcion auxiliar."
      ]
    },
    {
      "cell_type": "code",
      "execution_count": 73,
      "metadata": {},
      "outputs": [
        {
          "name": "stdout",
          "output_type": "stream",
          "text": [
            "A\n",
            "E\n",
            "son iguales\n"
          ]
        }
      ],
      "source": [
        "def sumar_letras(cadena:str, suma:int=0, contador_a:int=0,contador_e:int=0)-> int:\n",
        "    if suma == len(cadena):\n",
        "        if contador_a > contador_e:\n",
        "            return 'A'\n",
        "        elif contador_a < contador_e:\n",
        "            return 'E'\n",
        "        else:\n",
        "            return 'son iguales'\n",
        "\n",
        "    if cadena[suma].upper() == 'A':\n",
        "        contador_a +=1\n",
        "    elif cadena[suma].upper() == 'E':\n",
        "        contador_e += 1\n",
        "\n",
        "    return(sumar_letras(cadena,suma+1,contador_a,contador_e))\n",
        "\n",
        "def determinar_cantidad(cadena:str)->str:\n",
        "   resultado = sumar_letras(cadena)\n",
        "   return resultado\n",
        "\n",
        "print(determinar_cantidad('Aca hay 4 A y 1 E'))\n",
        "print(determinar_cantidad('Aca hay 4 A y 5 E EEEE'))\n",
        "print(determinar_cantidad('Aca hay 4 A y 4 E E E E'))"
      ]
    },
    {
      "cell_type": "markdown",
      "metadata": {
        "id": "3dx3RMhe_ZTc"
      },
      "source": [
        "**Ejercicio 16** Escriba una función `potencia(b,n) que calcule la potencia para cualquier n entero, incluso si n es negativa. Utilizar una funcion auxiliar."
      ]
    },
    {
      "cell_type": "code",
      "execution_count": 1,
      "metadata": {},
      "outputs": [
        {
          "data": {
            "text/plain": [
              "-8"
            ]
          },
          "execution_count": 1,
          "metadata": {},
          "output_type": "execute_result"
        }
      ],
      "source": [
        "def multiplicar(b,n):\n",
        "    if n == 1:\n",
        "        return b\n",
        "    return(b * multiplicar(b,n-1))\n",
        "\n",
        "def potencia(b,n):\n",
        "    return multiplicar(b,n)\n",
        "potencia(-2,3)"
      ]
    },
    {
      "cell_type": "markdown",
      "metadata": {
        "id": "XD295CPgAQ0D"
      },
      "source": [
        "**Ejercicio 17** Ya sabemos que la implementación recursiva del cálculo del número de Fibonacci (Fn = Fn−1 + Fn−2, F0 = 0, F1 = 1) es ineficiente porque muchas de las ramas calculan reiteradamente los mismos valores.\n",
        "\n",
        "Escribir una función fibonacci(n) que calcule el enésimo número de Fibonacci de forma recursiva pero que utilice un diccionario para almacenar los valores ya computados y no computarlos más de una vez.\n",
        "\n",
        "**Nota**: Será necesario implementar una función wrapper para cumplir con la firma de la función pedida."
      ]
    },
    {
      "cell_type": "code",
      "execution_count": 3,
      "metadata": {},
      "outputs": [
        {
          "data": {
            "text/plain": [
              "144"
            ]
          },
          "execution_count": 3,
          "metadata": {},
          "output_type": "execute_result"
        }
      ],
      "source": [
        "def fibonacci(n:int)->int:\n",
        "    def fibonacci_wrapper(n:int,memo:dict)->int:\n",
        "        if n<=1:\n",
        "            return n\n",
        "        elif n not in memo:\n",
        "            memo[n]=fibonacci_wrapper(n-1,memo) + fibonacci_wrapper(n-2,memo)\n",
        "        return memo[n]\n",
        "    memo={}\n",
        "    return fibonacci_wrapper(n,memo)\n",
        "n=12\n",
        "fibonacci(n)"
      ]
    }
  ],
  "metadata": {
    "colab": {
      "provenance": []
    },
    "kernelspec": {
      "display_name": "Python 3",
      "name": "python3"
    },
    "language_info": {
      "codemirror_mode": {
        "name": "ipython",
        "version": 3
      },
      "file_extension": ".py",
      "mimetype": "text/x-python",
      "name": "python",
      "nbconvert_exporter": "python",
      "pygments_lexer": "ipython3",
      "version": "3.10.12"
    }
  },
  "nbformat": 4,
  "nbformat_minor": 0
}
