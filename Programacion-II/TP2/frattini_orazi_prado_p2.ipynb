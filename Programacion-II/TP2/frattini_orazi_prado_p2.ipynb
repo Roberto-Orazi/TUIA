{
 "cells": [
  {
   "cell_type": "markdown",
   "metadata": {},
   "source": [
    "# Trabajo Practico 2"
   ]
  },
  {
   "cell_type": "markdown",
   "metadata": {},
   "source": [
    "## Carga de datos"
   ]
  },
  {
   "cell_type": "code",
   "execution_count": 152,
   "metadata": {},
   "outputs": [
    {
     "name": "stdout",
     "output_type": "stream",
     "text": [
      "         Estacin                 Valor Medio de   Ene   Feb   Mar   Abr  \\\n",
      "0  LA QUIACA OBS.         Temperatura (grados C)  12.8  12.5  12.4  10.9   \n",
      "1  LA QUIACA OBS.  Temperatura mxima (grados C)  20.1  19.9  19.9  19.7   \n",
      "2  LA QUIACA OBS.  Temperatura mnima (grados C)   7.4   7.0   6.3   2.8   \n",
      "3  LA QUIACA OBS.           Humedad relativa (%)  65.3  64.1  62.4  48.2   \n",
      "4  LA QUIACA OBS.    Velocidad del Viento (km/h)   6.9   7.1   6.5   6.4   \n",
      "\n",
      "    May   Jun   Jul   Ago   Sep   Oct   Nov   Dic  \n",
      "0   6.9   4.4   4.1   6.7   9.3  11.7  12.8  13.2  \n",
      "1  17.3  15.6  15.4  17.4  19.2  21.1  21.7  21.3  \n",
      "2  -3.0  -6.2  -6.8  -4.2  -1.1   2.8   5.2   6.9  \n",
      "3  34.6  31.1  30.1  31.7  34.4  45.3  52.3  59.2  \n",
      "4   6.0   4.9   6.6   6.6   8.6   8.7   8.8   8.3  \n",
      "            Estacin                                     Valor Medio de   Ene  \\\n",
      "587  BASE SAN MARTIN                               Humedad relativa (%)   S/D   \n",
      "588  BASE SAN MARTIN                        Velocidad del Viento (km/h)  14.6   \n",
      "589  BASE SAN MARTIN                          Nubosidad total (octavos)   6.2   \n",
      "590  BASE SAN MARTIN                                 Precipitacin (mm)   S/D   \n",
      "591  BASE SAN MARTIN  Frecuencia de das con Precipitacin superior ...   S/D   \n",
      "\n",
      "      Feb   Mar   Abr   May   Jun   Jul   Ago   Sep   Oct   Nov   Dic  \n",
      "587   S/D   S/D   S/D   S/D   S/D   S/D   S/D   S/D   S/D   S/D   S/D  \n",
      "588  17.7  22.3  20.4  19.3  18.0  17.3  18.9  17.5  20.3  19.2  18.3  \n",
      "589   6.5   6.3   6.0   5.8   5.2   5.5   5.9   6.3   6.4   6.4   6.2  \n",
      "590   S/D   S/D   S/D   S/D   S/D   S/D   S/D   S/D   S/D   S/D   S/D  \n",
      "591   S/D   S/D   S/D   S/D   S/D   S/D   S/D   S/D   S/D   S/D   S/D  \n"
     ]
    }
   ],
   "source": [
    "import pandas as pd\n",
    "\n",
    "# Creamos una variable con la ruta\n",
    "ruta_archivo = \"servicio_meteorológico_no.csv\"\n",
    "\n",
    "# Cargamos los datos en el dataframe con el enconding utf8\n",
    "df = pd.read_csv(ruta_archivo, encoding=\"latin1\")\n",
    "\n",
    "# Mostramos las primeras filas y las ultimas para verificar\n",
    "print(df.head())\n",
    "print(df.tail())"
   ]
  },
  {
   "cell_type": "markdown",
   "metadata": {},
   "source": [
    "## Limpieza de datos"
   ]
  },
  {
   "cell_type": "code",
   "execution_count": 153,
   "metadata": {},
   "outputs": [
    {
     "name": "stdout",
     "output_type": "stream",
     "text": [
      "            Estación                 Valor Medio de   Ene   Feb   Mar   Abr  \\\n",
      "584  BASE SAN MARTIN         Temperatura (grados C)   2.0   0.9  -1.2  -3.3   \n",
      "585  BASE SAN MARTIN  Temperatura máxima (grados C)   4.5   3.3   1.3  -0.9   \n",
      "586  BASE SAN MARTIN  Temperatura mínima (grados C)  -0.3  -1.3  -3.6  -5.8   \n",
      "588  BASE SAN MARTIN    Velocidad del Viento (km/h)  14.6  17.7  22.3  20.4   \n",
      "589  BASE SAN MARTIN      Nubosidad total (octavos)   6.2   6.5   6.3   6.0   \n",
      "\n",
      "      May    Jun    Jul    Ago    Sep    Oct   Nov   Dic  \n",
      "584  -5.3   -9.3  -11.6  -11.5   -8.9   -5.9  -2.0   0.8  \n",
      "585  -2.3   -5.8   -7.3   -6.9   -4.6   -2.1   1.2   3.4  \n",
      "586  -8.4  -13.5  -16.3  -16.8  -13.9  -10.2  -5.5  -1.8  \n",
      "588  19.3   18.0   17.3   18.9   17.5   20.3  19.2  18.3  \n",
      "589   5.8    5.2    5.5    5.9    6.3    6.4   6.4   6.2  \n"
     ]
    }
   ],
   "source": [
    "# Creamos un diccionario con las palabras a reemplazar\n",
    "reemplazos = {\n",
    "    'mxima': 'máxima',\n",
    "    'mnima': 'mínima',\n",
    "    'Precipitacin': 'Precipitación',\n",
    "    'das': 'días',\n",
    "}\n",
    "# Aca remplazamos las palabras con errores asignandole el diccionario creado\n",
    "df.rename(columns={'Estacin': 'Estación'}, inplace=True)\n",
    "# Aca este en particular no andaba con el replace.\n",
    "df = df.replace(reemplazos, regex=True)\n",
    "# Aca cambiamos los S/D que es sin datos a valor nulo\n",
    "df.replace(\"S/D\", np.nan, inplace=True)\n",
    "# Primero podemos verificar el tema de los valores nulos\n",
    "df = df.dropna() # PREGUNTAR HAY QUE BORRAR LOS NULOS?\n",
    "# Tambien podemos verificar el tema de las filas duplicadas\n",
    "df = df.drop_duplicates()\n",
    "print(df.tail())\n"
   ]
  },
  {
   "cell_type": "markdown",
   "metadata": {},
   "source": [
    "## Analisis descriptivo"
   ]
  },
  {
   "cell_type": "code",
   "execution_count": 162,
   "metadata": {},
   "outputs": [
    {
     "name": "stdout",
     "output_type": "stream",
     "text": [
      "No hay datos para Temperatura (grados C) en el rango de meses seleccionado.\n",
      "No hay datos para Temperatura (grados C) en el rango de meses seleccionado.\n",
      "No hay datos para Temperatura (grados C) en el rango de meses seleccionado.\n",
      "No hay datos para Temperatura (grados C) en el rango de meses seleccionado.\n",
      "No hay datos para Temperatura (grados C) en el rango de meses seleccionado.\n",
      "No hay datos para Temperatura (grados C) en el rango de meses seleccionado.\n",
      "No hay datos para Temperatura (grados C) en el rango de meses seleccionado.\n",
      "No hay datos para Temperatura (grados C) en el rango de meses seleccionado.\n",
      "No hay datos para Temperatura (grados C) en el rango de meses seleccionado.\n",
      "No hay datos para Temperatura (grados C) en el rango de meses seleccionado.\n"
     ]
    }
   ],
   "source": [
    "import statistics as st\n",
    "import matplotlib.pyplot as plt\n",
    "\n",
    "resumen_estadisticas = df.describe()\n",
    "#print(resumen_estadisticas)\n",
    "\n",
    "df_enero_diciembre = df[df.columns[2:]].transpose()\n",
    "#print(df_enero_diciembre)\n",
    "\n",
    "df_enero_diciembre.columns = df[\"Valor Medio de\"]\n",
    "#print(df_enero_diciembre)\n",
    "\n",
    "df_enero_diciembre = df_enero_diciembre.loc[\"Ene\":\"Dic\"]\n",
    "#print(df_enero_diciembre)\n",
    "\n",
    "temperatura_media = df_enero_diciembre[\n",
    "    df_enero_diciembre.index == \"Temperatura (grados C)\"\n",
    "].transpose()\n",
    "temperatura_maxima = df_enero_diciembre[\n",
    "    df_enero_diciembre.index == \"Temperatura máxima (grados C)\"\n",
    "].transpose()\n",
    "temperatura_minima = df_enero_diciembre[\n",
    "    df_enero_diciembre.index == \"Temperatura mínima (grados C)\"\n",
    "].transpose()\n",
    "humedad_relativa = df_enero_diciembre[\n",
    "    df_enero_diciembre.index == \"Humedad relativa (%)\"\n",
    "].transpose()\n",
    "velocidad_viento = df_enero_diciembre[\n",
    "    df_enero_diciembre.index == \"Velocidad del Viento (km/h)\"\n",
    "].transpose()\n",
    "\n",
    "variables = [\n",
    "    temperatura_media,\n",
    "    temperatura_maxima,\n",
    "    temperatura_minima,\n",
    "    humedad_relativa,\n",
    "    velocidad_viento,\n",
    "]\n",
    "\n",
    "for variable in variables:\n",
    "    if not variable.empty:\n",
    "        estacion = variable.columns[0]\n",
    "        valores_numericos = pd.to_numeric(variable[estacion], errors=\"coerce\").dropna()\n",
    "\n",
    "        media = st.mean(valores_numericos)\n",
    "        mediana = st.median(valores_numericos)\n",
    "        desviacion_estandar = st.stdev(valores_numericos)\n",
    "\n",
    "        print(f\"Estadísticas para {estacion}:\")\n",
    "        print(f\"  Media: {media}\")\n",
    "        print(f\"  Mediana: {mediana}\")\n",
    "        print(f\"  Desviación estándar: {desviacion_estandar}\")\n",
    "        print(\"\\n\")\n",
    "    else:\n",
    "        print(\n",
    "            f\"No hay datos para {variable.index[0]} en el rango de meses seleccionado.\"\n",
    "        )\n",
    "\n",
    "for variable in variables:\n",
    "    if not variable.empty:  # Verificar si el DataFrame no está vacío\n",
    "        estacion = variable.columns[0]\n",
    "        valores_numericos = pd.to_numeric(variable[estacion], errors=\"coerce\").dropna()\n",
    "\n",
    "        plt.figure(figsize=(8, 6))\n",
    "        plt.boxplot(valores_numericos)\n",
    "        plt.title(f\"Boxplot de {estacion}\")\n",
    "        plt.show()\n",
    "    else:\n",
    "        print(\n",
    "            f\"No hay datos para {variable.index[0]} en el rango de meses seleccionado.\"\n",
    "        )"
   ]
  }
 ],
 "metadata": {
  "kernelspec": {
   "display_name": "Python 3",
   "language": "python",
   "name": "python3"
  },
  "language_info": {
   "codemirror_mode": {
    "name": "ipython",
    "version": 3
   },
   "file_extension": ".py",
   "mimetype": "text/x-python",
   "name": "python",
   "nbconvert_exporter": "python",
   "pygments_lexer": "ipython3",
   "version": "3.10.12"
  }
 },
 "nbformat": 4,
 "nbformat_minor": 2
}
