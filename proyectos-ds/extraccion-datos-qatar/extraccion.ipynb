{
 "cells": [
  {
   "cell_type": "markdown",
   "metadata": {},
   "source": [
    "## Importar librerias"
   ]
  },
  {
   "cell_type": "code",
   "execution_count": 67,
   "metadata": {},
   "outputs": [],
   "source": [
    "# imports\n",
    "import pandas as pd\n",
    "from string import ascii_uppercase as alfabeto\n",
    "import pickle\n",
    "from bs4 import BeautifulSoup\n",
    "import requests"
   ]
  },
  {
   "cell_type": "markdown",
   "metadata": {},
   "source": [
    "## Traer datos"
   ]
  },
  {
   "cell_type": "code",
   "execution_count": 107,
   "metadata": {},
   "outputs": [],
   "source": [
    "# Readers gruos A-H\n",
    "full_tables=pd.read_html('https://es.wikipedia.org/wiki/Copa_Mundial_de_F%C3%BAtbol_de_2022')\n",
    "\n",
    "# Readers mundiales del 1930 al 2022\n",
    "mundiales = [1930, 1934, 1938, 1950, 1954, 1958, 1962, 1966, 1970, 1974, 1978, 1982, 1986, 1990, 1994, 1998, 2002, 2006, 2010, 2014, 2018,2022]\n",
    "\n",
    "\n",
    "def obtener_partidos(year):\n",
    "    web=f'https://en.wikipedia.org/wiki/{year}_FIFA_World_Cup'\n",
    "    response=requests.get(web)\n",
    "    contenido=response.text\n",
    "    soup=BeautifulSoup(contenido,'lxml')\n",
    "    partidos=soup.find_all('div', class_='footballbox')\n",
    "\n",
    "    equipo_local=[]\n",
    "    resultado=[]\n",
    "    equipo_visitante=[]\n",
    "    for partido in partidos:\n",
    "        equipo_local.append(partido.find('th',class_='fhome').get_text())\n",
    "        resultado.append(partido.find('th',class_='fscore').get_text())\n",
    "        equipo_visitante.append(partido.find('th',class_='faway').get_text())\n",
    "\n",
    "    dict_futbol={'local': equipo_local, 'resultado': resultado, 'equipo_visitante': equipo_visitante}\n",
    "\n",
    "    df_futbol=pd.DataFrame(dict_futbol)\n",
    "    df_futbol['año']=year\n",
    "    return df_futbol\n",
    "\n",
    "fifa=[obtener_partidos(year) for year in mundiales]\n",
    "df_fifa=pd.concat(fifa, ignore_index=True)\n",
    "df_fifa.to_csv('data_historica_mundiales.csv', index=False)\n"
   ]
  },
  {
   "cell_type": "markdown",
   "metadata": {},
   "source": [
    "## Extraccion grupos A-H"
   ]
  },
  {
   "cell_type": "code",
   "execution_count": 62,
   "metadata": {},
   "outputs": [
    {
     "name": "stdout",
     "output_type": "stream",
     "text": [
      "Index(['Selección', 'Pts', 'PJ', 'PG', 'PE', 'PP', 'GF', 'GC', 'Dif'], dtype='object')\n"
     ]
    }
   ],
   "source": [
    "# creating the tables\n",
    "\n",
    "# A -> H\n",
    "# 11 - 67\n",
    "print(full_tables[8].columns)\n",
    "dict_tablas={}\n",
    "for letra, i in zip(alfabeto, range(8,60,7)):\n",
    "    #print(f'\\nEsta es la tabla del grupo {letra}\\n')\n",
    "    df=full_tables[i]\n",
    "    dict_tablas[f'Grupo {letra}']=df\n",
    "    #print(dict_tablas)\n"
   ]
  },
  {
   "cell_type": "code",
   "execution_count": 59,
   "metadata": {},
   "outputs": [
    {
     "data": {
      "text/html": [
       "<div>\n",
       "<style scoped>\n",
       "    .dataframe tbody tr th:only-of-type {\n",
       "        vertical-align: middle;\n",
       "    }\n",
       "\n",
       "    .dataframe tbody tr th {\n",
       "        vertical-align: top;\n",
       "    }\n",
       "\n",
       "    .dataframe thead th {\n",
       "        text-align: right;\n",
       "    }\n",
       "</style>\n",
       "<table border=\"1\" class=\"dataframe\">\n",
       "  <thead>\n",
       "    <tr style=\"text-align: right;\">\n",
       "      <th></th>\n",
       "      <th>Selección</th>\n",
       "      <th>Pts</th>\n",
       "      <th>PJ</th>\n",
       "      <th>PG</th>\n",
       "      <th>PE</th>\n",
       "      <th>PP</th>\n",
       "      <th>GF</th>\n",
       "      <th>GC</th>\n",
       "      <th>Dif</th>\n",
       "    </tr>\n",
       "  </thead>\n",
       "  <tbody>\n",
       "    <tr>\n",
       "      <th>0</th>\n",
       "      <td>Argentina</td>\n",
       "      <td>6</td>\n",
       "      <td>3</td>\n",
       "      <td>2</td>\n",
       "      <td>0</td>\n",
       "      <td>1</td>\n",
       "      <td>5</td>\n",
       "      <td>2</td>\n",
       "      <td>3</td>\n",
       "    </tr>\n",
       "    <tr>\n",
       "      <th>1</th>\n",
       "      <td>Polonia</td>\n",
       "      <td>4</td>\n",
       "      <td>3</td>\n",
       "      <td>1</td>\n",
       "      <td>1</td>\n",
       "      <td>1</td>\n",
       "      <td>2</td>\n",
       "      <td>2</td>\n",
       "      <td>0</td>\n",
       "    </tr>\n",
       "    <tr>\n",
       "      <th>2</th>\n",
       "      <td>México</td>\n",
       "      <td>4</td>\n",
       "      <td>3</td>\n",
       "      <td>1</td>\n",
       "      <td>1</td>\n",
       "      <td>1</td>\n",
       "      <td>2</td>\n",
       "      <td>3</td>\n",
       "      <td>–1</td>\n",
       "    </tr>\n",
       "    <tr>\n",
       "      <th>3</th>\n",
       "      <td>Arabia Saudita</td>\n",
       "      <td>3</td>\n",
       "      <td>3</td>\n",
       "      <td>1</td>\n",
       "      <td>0</td>\n",
       "      <td>2</td>\n",
       "      <td>3</td>\n",
       "      <td>5</td>\n",
       "      <td>–2</td>\n",
       "    </tr>\n",
       "  </tbody>\n",
       "</table>\n",
       "</div>"
      ],
      "text/plain": [
       "        Selección  Pts  PJ  PG  PE  PP  GF  GC Dif\n",
       "0       Argentina    6   3   2   0   1   5   2   3\n",
       "1         Polonia    4   3   1   1   1   2   2   0\n",
       "2          México    4   3   1   1   1   2   3  –1\n",
       "3  Arabia Saudita    3   3   1   0   2   3   5  –2"
      ]
     },
     "execution_count": 59,
     "metadata": {},
     "output_type": "execute_result"
    }
   ],
   "source": [
    "# Imprimimos una tabla para visualizarla\n",
    "dict_tablas['Grupo C']"
   ]
  },
  {
   "cell_type": "code",
   "execution_count": 63,
   "metadata": {},
   "outputs": [],
   "source": [
    "# Aca creamos el archivo\n",
    "with open('dict_table', 'wb') as output:\n",
    "    pickle.dump(dict_tablas, output)"
   ]
  },
  {
   "cell_type": "markdown",
   "metadata": {},
   "source": [
    "## Extraccion de partidos"
   ]
  },
  {
   "cell_type": "code",
   "execution_count": 90,
   "metadata": {},
   "outputs": [
    {
     "name": "stdout",
     "output_type": "stream",
     "text": [
      "           local     resultado equipo_visitante   año\n",
      "0        Brazil            3–1          Croatia  2014\n",
      "1        Mexico            1–0         Cameroon  2014\n",
      "2        Brazil            0–0           Mexico  2014\n",
      "3      Cameroon            0–4          Croatia  2014\n",
      "4      Cameroon            1–4           Brazil  2014\n",
      "..           ...           ...              ...   ...\n",
      "59  Netherlands   0–0 (a.e.t.)       Costa Rica  2014\n",
      "60       Brazil            1–7          Germany  2014\n",
      "61  Netherlands   0–0 (a.e.t.)        Argentina  2014\n",
      "62       Brazil            0–3      Netherlands  2014\n",
      "63      Germany   1–0 (a.e.t.)        Argentina  2014\n",
      "\n",
      "[64 rows x 4 columns]\n"
     ]
    }
   ],
   "source": [
    "contenido=response.text\n",
    "soup=BeautifulSoup(contenido,'lxml')\n",
    "partidos=soup.find_all('div', class_='footballbox')\n",
    "\n",
    "equipo_local=[]\n",
    "resultado=[]\n",
    "equipo_visitante=[]\n",
    "for partido in partidos:\n",
    "    equipo_local.append(partido.find('th',class_='fhome').get_text())\n",
    "    resultado.append(partido.find('th',class_='fscore').get_text())\n",
    "    equipo_visitante.append(partido.find('th',class_='faway').get_text())\n",
    "\n",
    "dict_futbol={'local': equipo_local, 'resultado': resultado, 'equipo_visitante': equipo_visitante}\n",
    "\n",
    "df_futbol=pd.DataFrame(dict_futbol)\n",
    "df_futbol['año']='2014'\n",
    "print(df_futbol)"
   ]
  }
 ],
 "metadata": {
  "kernelspec": {
   "display_name": "Python 3",
   "language": "python",
   "name": "python3"
  },
  "language_info": {
   "codemirror_mode": {
    "name": "ipython",
    "version": 3
   },
   "file_extension": ".py",
   "mimetype": "text/x-python",
   "name": "python",
   "nbconvert_exporter": "python",
   "pygments_lexer": "ipython3",
   "version": "3.10.12"
  }
 },
 "nbformat": 4,
 "nbformat_minor": 2
}
